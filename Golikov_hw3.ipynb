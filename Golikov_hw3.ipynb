{
 "cells": [
  {
   "cell_type": "markdown",
   "metadata": {},
   "source": [
    "### Алгоритмы интеллектуальной обработки больших объемов данных\n",
    "## Домашнее задание №3 - Дерево решений\n"
   ]
  },
  {
   "cell_type": "markdown",
   "metadata": {},
   "source": [
    "**Общая информация**\n",
    "\n",
    "**Срок сдачи:** 28 мая 2022, 08:30   \n",
    "**Штраф за опоздание:** по 1 баллу за 24 часа задержки.\n",
    "\n",
    "При отправлении ДЗ указывайте фамилию в названии файла Присылать ДЗ необходимо в виде ссылки на свой github репозиторий на почту ml1.sphere@mail.ru с указанием темы в следующем формате:\n",
    "[ML0221, Задание 3] Фамилия Имя. \n",
    "\n",
    "\n",
    "Используйте данный Ipython Notebook при оформлении домашнего задания."
   ]
  },
  {
   "cell_type": "markdown",
   "metadata": {},
   "source": [
    "##  Реализуем дерево решений (3 балла)"
   ]
  },
  {
   "cell_type": "markdown",
   "metadata": {},
   "source": [
    "Допишите недостающие части дерева решений. Ваша реализация дерева должна работать по точности не хуже DecisionTreeClassifier из sklearn.\n",
    "Внимание: если Вас не устраивает предложенная структура хранения дерева, Вы без потери баллов можете сделать свой класс DecisionTreeClassifier, в котором сами полностью воспроизведете алгоритм дерева решений. Обязательно в нем иметь только функции fit, predict"
   ]
  },
  {
   "cell_type": "code",
   "execution_count": 1,
   "metadata": {
    "tags": []
   },
   "outputs": [],
   "source": [
    "import matplotlib.pyplot as plt\n",
    "import numpy as np\n",
    "import pandas as pd\n",
    "\n",
    "from sklearn.datasets import load_wine\n",
    "from sklearn.ensemble import RandomForestClassifier\n",
    "from sklearn.metrics import accuracy_score\n",
    "from sklearn.model_selection import KFold, train_test_split, GridSearchCV, RandomizedSearchCV\n",
    "from sklearn.tree import DecisionTreeClassifier\n"
   ]
  },
  {
   "cell_type": "code",
   "execution_count": 536,
   "metadata": {
    "tags": []
   },
   "outputs": [],
   "source": [
    "class MyDecisionTreeClassifier:\n",
    "    NON_LEAF_TYPE = 0\n",
    "    LEAF_TYPE = 1\n",
    "\n",
    "    def __init__(self, min_samples_split=2, max_depth=5, criterion='gini'):\n",
    "        \"\"\"\n",
    "        criterion -- критерий расщепления. необходимо релизовать три:\n",
    "        Ошибка классификации, Индекс Джини, Энтропийный критерий\n",
    "        max_depth -- максимальная глубина дерева\n",
    "        min_samples_split -- минимальное число объектов в листе, чтобы сделать новый сплит\n",
    "        \"\"\"\n",
    "        def __calc_class_error(y):\n",
    "            counts = np.unique(y, return_counts=True)[1]\n",
    "            probs = counts/np.sum(counts)\n",
    "            if probs.shape == (0,):\n",
    "                return 1\n",
    "            else:\n",
    "                return 1 - np.max(probs)\n",
    "        \n",
    "        def __calc_gini(y):\n",
    "            counts = np.unique(y, return_counts=True)[1]\n",
    "            probs = counts/np.sum(counts)\n",
    "            return 1 - np.sum(np.square(probs))\n",
    "        \n",
    "        def __calc_entropy(y):\n",
    "            counts = np.unique(y, return_counts=True)[1]\n",
    "            probs = counts/np.sum(counts)\n",
    "            return -(probs @ np.log(probs))\n",
    "        \n",
    "        self.min_samples_split = min_samples_split\n",
    "        self.max_depth = max_depth\n",
    "        self.num_class = -1\n",
    "        self.__l_sum = 0\n",
    "        self.__r_sum = 0\n",
    "        self.__l_squares = 0\n",
    "        self.__r_squares = 0\n",
    "        self.__y_criterion = 0\n",
    "        # Для последнего задания\n",
    "        self.feature_importances_ = None\n",
    "        # Структура, которая описывает дерево\n",
    "        # Представляет словарь, где для  node_id (айдишник узла дерева) храним\n",
    "        # (тип_узла, айдишник признака сплита, порог сплита) если тип NON_LEAF_TYPE\n",
    "        # (тип_узла, предсказание класса, вероятность класса) если тип LEAF_TYPE\n",
    "        # Подразумевается, что у каждого node_id в дереве слева \n",
    "        # узел с айди 2 * node_id + 1, а справа 2 * node_id + 2\n",
    "        self.tree = dict()\n",
    "        self.criterion = criterion\n",
    "        self.is_gini = criterion == \"gini\"\n",
    "        if criterion == \"gini\":\n",
    "            self.calc_criterion = __calc_gini\n",
    "        elif self.criterion == \"class_error\":\n",
    "            self.calc_criterion = __calc_class_error\n",
    "        elif self.criterion == \"entropy\":\n",
    "            self.calc_criterion = __calc_entropy\n",
    "        else:\n",
    "            raise NameError(\"No such criterion\")\n",
    "\n",
    "    def __div_samples(self, x, y, feature_id, threshold):\n",
    "        \"\"\"\n",
    "        Разделяет объекты на 2 множества\n",
    "        x -- матрица объектов\n",
    "        y -- вектор ответов\n",
    "        feature_id -- айдишник признака, по которому делаем сплит\n",
    "        threshold -- порог, по которому делаем сплит\n",
    "        \"\"\"\n",
    "        left_mask = x[:, feature_id] > threshold\n",
    "        right_mask = ~left_mask\n",
    "        return x[left_mask], x[right_mask], y[left_mask], y[right_mask]\n",
    "\n",
    "    def __calc_Q(self, y, i, fast=False):\n",
    "        \"\"\"\n",
    "        Если параметр fast=True, вычисляется с ускорением\n",
    "        посредством использования атрибутов __old_criterion_l(r)\n",
    "        и заранее известного impurity для y\n",
    "        Иначе - вычисляется наивно\n",
    "        \"\"\"\n",
    "        if self.is_gini and fast:\n",
    "            self.__l_sum += y[i - 1]\n",
    "            self.__r_sum -= y[i - 1]\n",
    "            self.__l_squares += y[i - 1]**2\n",
    "            self.__r_squares -= y[i - 1]**2\n",
    "            h_l = (self.__l_squares/i - (self.__l_sum/i)**2)\n",
    "            h_r = (self.__r_squares/(y.shape[0] - i) - (self.__r_sum/(y.shape[0] - i))**2)\n",
    "            # print(y[i - 1])\n",
    "            # print(self.__l_sum, self.__r_sum)\n",
    "            # print(self.__l_squares, self.__r_squares)\n",
    "            # print(h_l, h_r)\n",
    "            h = self.__y_criterion - (h_l*i + h_r*(y.shape[0] - i))/y.shape[0]\n",
    "            return h\n",
    "        else:\n",
    "            y_l, y_r = y[0:i], y[i:y.shape[0]]\n",
    "            Q = self.__y_criterion - self.calc_criterion(y_l)*y_l.shape[0]/y.shape[0] - self.calc_criterion(y_r)*y_r.shape[0]/y.shape[0]\n",
    "            return Q\n",
    "    \n",
    "    def __prepare_fast_count(self, y, sum_y, sum_square_y):\n",
    "        self.__l_sum = 0\n",
    "        self.__r_sum = sum_y\n",
    "        self.__l_squares = 0\n",
    "        self.__r_squares = sum_square_y\n",
    "        \n",
    "    def __find_threshold(self, x, y):\n",
    "        \"\"\"\n",
    "        Находим оптимальный признак и порог для сплита\n",
    "        Здесь используемые разные impurity в зависимости от self.criterion\n",
    "        \"\"\"\n",
    "        opt_feature = 0\n",
    "        opt_split = x[0, 0]\n",
    "        opt_Q = self.__calc_Q(y, 0)\n",
    "        self.__y_criterion = self.calc_criterion(y)\n",
    "        sum_y = np.sum(y)\n",
    "        sum_square_y = np.sum(np.square(y))\n",
    "        for feature_index in range(x.shape[1]):\n",
    "            order = np.argsort(x[:, feature_index])\n",
    "            reordered_y = y[order]\n",
    "            reordered_x = x[order, :]\n",
    "            \n",
    "            y_prev_index = 0\n",
    "            flag = False\n",
    "            if self.is_gini:\n",
    "                self.__prepare_fast_count(y, sum_y, sum_square_y)\n",
    "            for i in range(1, x.shape[0] - 1):\n",
    "                if reordered_y[i] == reordered_y[y_prev_index]:\n",
    "                    flag = True\n",
    "                    continue\n",
    "                if self.is_gini and flag:\n",
    "                    self.__l_sum += np.sum(reordered_y[y_prev_index + 1:i])\n",
    "                    self.__r_sum -= np.sum(reordered_y[y_prev_index + 1:i])\n",
    "                    self.__l_squares += np.sum(np.square(reordered_y[y_prev_index + 1:i]))\n",
    "                    self.__r_squares -= np.sum(np.square(reordered_y[y_prev_index + 1:i]))\n",
    "\n",
    "                y_prev_index = i\n",
    "                running_Q = self.__calc_Q(reordered_y, i, True)\n",
    "                if running_Q > opt_Q:\n",
    "                    opt_Q = running_Q\n",
    "                    opt_feature = feature_index\n",
    "                    opt_order = order\n",
    "                    opt_split = (reordered_x[i - 1, opt_feature] + reordered_x[i, opt_feature])/2\n",
    "        return opt_feature, opt_split, opt_Q\n",
    "    \n",
    "    def __leaf_class_predict(self, y):\n",
    "        counts =  np.unique(y, return_counts=True)\n",
    "        return counts[0][np.argmax(counts[1])]\n",
    "            \n",
    "    def __fit_node(self, x, y, node_id, depth):\n",
    "        \"\"\"\n",
    "        Делаем новый узел в дереве\n",
    "        Решаем, терминальный он или нет\n",
    "        Если нет, то строим левый узел  с айди 2 * node_id + 1\n",
    "        И правый узел с  айди 2 * node_id + 2\n",
    "        \"\"\"\n",
    "        if depth >= self.max_depth:\n",
    "            pred = self.__leaf_class_predict(y)\n",
    "            prob = np.sum(y == pred)/y.shape[0]\n",
    "            new_node = (self.LEAF_TYPE, pred, prob)\n",
    "            self.tree[node_id] = new_node\n",
    "        else:\n",
    "            opt_feature, opt_split, opt_Q = self.__find_threshold(x, y)\n",
    "            reordered_opt_feature = x[:, opt_feature]\n",
    "            l_index = reordered_opt_feature < opt_split\n",
    "            r_index = reordered_opt_feature >= opt_split\n",
    "            x_l = x[l_index]\n",
    "            x_r = x[r_index]\n",
    "            y_l = y[l_index]\n",
    "            y_r = y[r_index]\n",
    "            if y_l.shape[0] <= self.min_samples_split or y_r.shape[0] <= self.min_samples_split:\n",
    "                pred = self.__leaf_class_predict(y)\n",
    "                prob = np.sum(y == pred)/y.shape[0]\n",
    "                new_node = (self.LEAF_TYPE, pred, prob)\n",
    "                self.tree[node_id] = new_node\n",
    "            else:\n",
    "                new_node = (self.NON_LEAF_TYPE, opt_feature, opt_split)\n",
    "                self.feature_importances_[opt_feature] += opt_Q\n",
    "                self.tree[node_id] = new_node\n",
    "                self.__fit_node(x_l, y_l, 2*node_id + 1, depth + 1)\n",
    "                self.__fit_node(x_r, y_r, 2*node_id + 2, depth + 1)\n",
    "    \n",
    "    def fit(self, x, y):\n",
    "        \"\"\"\n",
    "        Рекурсивно строим дерево решений\n",
    "        Начинаем с корня node_id 0\n",
    "        \"\"\"\n",
    "        self.feature_importances_ = dict.fromkeys(range(x.shape[1]), 0)\n",
    "        self.num_class = np.unique(y).size\n",
    "        self.__fit_node(x, y, 0, 0) \n",
    "\n",
    "    def __predict_class(self, x, node_id):\n",
    "        \"\"\"\n",
    "        Рекурсивно обходим дерево по всем узлам,\n",
    "        пока не дойдем до терминального\n",
    "        \"\"\"\n",
    "        node = self.tree[node_id]\n",
    "        if node[0] == self.__class__.NON_LEAF_TYPE:\n",
    "            _, feature_id, threshold = node\n",
    "            if x[feature_id] < threshold:\n",
    "                return self.__predict_class(x, 2 * node_id + 1)\n",
    "            else:\n",
    "                return self.__predict_class(x, 2 * node_id + 2)\n",
    "        else:\n",
    "            return node[1]\n",
    "        \n",
    "    def predict(self, X):\n",
    "        \"\"\"\n",
    "        Вызывает predict для всех объектов из матрицы X\n",
    "        \"\"\"\n",
    "        return np.array([self.__predict_class(x, 0) for x in X])\n",
    "    \n",
    "    def fit_predict(self, x_train, y_train, predicted_x):\n",
    "        self.fit(x_train, y_train)\n",
    "        return self.predict(predicted_x)\n",
    "    \n",
    "    def get_feature_importance(self):\n",
    "        \"\"\"\n",
    "        Возвращает важность признаков\n",
    "        \"\"\"\n",
    "        importances = np.zeros(len(self.feature_importances_))\n",
    "        for k, i in self.feature_importances_.items():\n",
    "            importances[k] = i\n",
    "        return importances/np.sum(importances)"
   ]
  },
  {
   "cell_type": "code",
   "execution_count": 520,
   "metadata": {
    "tags": []
   },
   "outputs": [],
   "source": [
    "my_clf = MyDecisionTreeClassifier(min_samples_split=2)\n",
    "clf = DecisionTreeClassifier(min_samples_split=2)"
   ]
  },
  {
   "cell_type": "code",
   "execution_count": 521,
   "metadata": {
    "tags": []
   },
   "outputs": [],
   "source": [
    "wine = load_wine()\n",
    "X_train, X_test, y_train, y_test = train_test_split(wine.data, wine.target, test_size=0.1, stratify=wine.target)"
   ]
  },
  {
   "cell_type": "code",
   "execution_count": 522,
   "metadata": {
    "tags": []
   },
   "outputs": [],
   "source": [
    "my_clf.fit(X_train, y_train)"
   ]
  },
  {
   "cell_type": "code",
   "execution_count": 523,
   "metadata": {},
   "outputs": [
    {
     "data": {
      "text/plain": [
       "DecisionTreeClassifier()"
      ]
     },
     "execution_count": 523,
     "metadata": {},
     "output_type": "execute_result"
    }
   ],
   "source": [
    "clf.fit(X_train, y_train)"
   ]
  },
  {
   "cell_type": "code",
   "execution_count": 524,
   "metadata": {
    "tags": []
   },
   "outputs": [
    {
     "data": {
      "text/plain": [
       "1.0"
      ]
     },
     "execution_count": 524,
     "metadata": {},
     "output_type": "execute_result"
    }
   ],
   "source": [
    "accuracy_score(y_pred=clf.predict(X_test), y_true=y_test)"
   ]
  },
  {
   "cell_type": "code",
   "execution_count": 525,
   "metadata": {
    "tags": []
   },
   "outputs": [
    {
     "data": {
      "text/plain": [
       "1.0"
      ]
     },
     "execution_count": 525,
     "metadata": {},
     "output_type": "execute_result"
    }
   ],
   "source": [
    "accuracy_score(y_pred=my_clf.predict(X_test), y_true=y_test)"
   ]
  },
  {
   "cell_type": "markdown",
   "metadata": {
    "tags": []
   },
   "source": [
    "## Ускоряем дерево решений (2 балла)\n",
    "Добиться скорости работы на fit не медленнее чем в 10 раз sklearn на данных wine. \n",
    "Для этого используем numpy."
   ]
  },
  {
   "cell_type": "code",
   "execution_count": 441,
   "metadata": {
    "scrolled": true,
    "tags": []
   },
   "outputs": [
    {
     "name": "stdout",
     "output_type": "stream",
     "text": [
      "CPU times: user 216 µs, sys: 3.76 ms, total: 3.98 ms\n",
      "Wall time: 2.7 ms\n"
     ]
    },
    {
     "data": {
      "text/plain": [
       "DecisionTreeClassifier()"
      ]
     },
     "execution_count": 441,
     "metadata": {},
     "output_type": "execute_result"
    }
   ],
   "source": [
    "%time clf.fit(X_train, y_train)"
   ]
  },
  {
   "cell_type": "markdown",
   "metadata": {},
   "source": [
    "### Оптимзационный алгоритм реализован, но ускорение не дотягивает :("
   ]
  },
  {
   "cell_type": "code",
   "execution_count": 442,
   "metadata": {
    "tags": []
   },
   "outputs": [
    {
     "name": "stdout",
     "output_type": "stream",
     "text": [
      "CPU times: user 63.7 ms, sys: 0 ns, total: 63.7 ms\n",
      "Wall time: 62.6 ms\n"
     ]
    }
   ],
   "source": [
    "%time my_clf.fit(X_train, y_train)"
   ]
  },
  {
   "cell_type": "markdown",
   "metadata": {},
   "source": [
    "## Боевое применение (3 балла)\n",
    "\n",
    "На практике Вы познакомились с датасетом Speed Dating Data. В нем каждая пара в быстрых свиданиях характеризуется определенным набором признаков. Задача -- предсказать, произойдет ли матч пары (колонка match). \n",
    "\n",
    "Пример работы с датасетом можете найти в практике пункт 2\n",
    "https://github.com/VVVikulin/ml1.sphere/blob/master/2019-09/lecture_06/pract-trees.ipynb\n",
    "\n",
    "Данные и описания колонок лежат тут\n",
    "https://cloud.mail.ru/public/8nHV/p6J7wY1y1/speed-dating-experiment/"
   ]
  },
  {
   "cell_type": "markdown",
   "metadata": {},
   "source": [
    "Скачайте датасет, обработайте данные, как показано на семинаре или своим собственным способом. Обучите дерево классифкации. В качестве таргета возьмите колонку 'match'. Постарайтесь хорошо обработать признаки, чтобы выбить максимальную точность. Если точность будет близка к случайному гаданию, задание не будет защитано. \n"
   ]
  },
  {
   "cell_type": "code",
   "execution_count": 92,
   "metadata": {
    "tags": []
   },
   "outputs": [],
   "source": [
    "data = pd.read_csv(\"./Speed Dating Data.csv\", sep=\",\", encoding=\"latin1\")"
   ]
  },
  {
   "cell_type": "code",
   "execution_count": 93,
   "metadata": {
    "tags": []
   },
   "outputs": [
    {
     "data": {
      "text/plain": [
       "(8378, 195)"
      ]
     },
     "execution_count": 93,
     "metadata": {},
     "output_type": "execute_result"
    }
   ],
   "source": [
    "data.shape"
   ]
  },
  {
   "cell_type": "code",
   "execution_count": 94,
   "metadata": {},
   "outputs": [
    {
     "data": {
      "text/html": [
       "<div>\n",
       "<style scoped>\n",
       "    .dataframe tbody tr th:only-of-type {\n",
       "        vertical-align: middle;\n",
       "    }\n",
       "\n",
       "    .dataframe tbody tr th {\n",
       "        vertical-align: top;\n",
       "    }\n",
       "\n",
       "    .dataframe thead th {\n",
       "        text-align: right;\n",
       "    }\n",
       "</style>\n",
       "<table border=\"1\" class=\"dataframe\">\n",
       "  <thead>\n",
       "    <tr style=\"text-align: right;\">\n",
       "      <th></th>\n",
       "      <th>iid</th>\n",
       "      <th>id</th>\n",
       "      <th>gender</th>\n",
       "      <th>condtn</th>\n",
       "      <th>wave</th>\n",
       "      <th>round</th>\n",
       "      <th>position</th>\n",
       "      <th>positin1</th>\n",
       "      <th>order</th>\n",
       "      <th>partner</th>\n",
       "      <th>...</th>\n",
       "      <th>attr3_3</th>\n",
       "      <th>sinc3_3</th>\n",
       "      <th>intel3_3</th>\n",
       "      <th>fun3_3</th>\n",
       "      <th>amb3_3</th>\n",
       "      <th>attr5_3</th>\n",
       "      <th>sinc5_3</th>\n",
       "      <th>intel5_3</th>\n",
       "      <th>fun5_3</th>\n",
       "      <th>amb5_3</th>\n",
       "    </tr>\n",
       "  </thead>\n",
       "  <tbody>\n",
       "    <tr>\n",
       "      <th>0</th>\n",
       "      <td>1</td>\n",
       "      <td>1.0</td>\n",
       "      <td>0</td>\n",
       "      <td>1</td>\n",
       "      <td>1</td>\n",
       "      <td>10</td>\n",
       "      <td>7</td>\n",
       "      <td>NaN</td>\n",
       "      <td>4</td>\n",
       "      <td>1</td>\n",
       "      <td>...</td>\n",
       "      <td>5.0</td>\n",
       "      <td>7.0</td>\n",
       "      <td>7.0</td>\n",
       "      <td>7.0</td>\n",
       "      <td>7.0</td>\n",
       "      <td>NaN</td>\n",
       "      <td>NaN</td>\n",
       "      <td>NaN</td>\n",
       "      <td>NaN</td>\n",
       "      <td>NaN</td>\n",
       "    </tr>\n",
       "    <tr>\n",
       "      <th>1</th>\n",
       "      <td>1</td>\n",
       "      <td>1.0</td>\n",
       "      <td>0</td>\n",
       "      <td>1</td>\n",
       "      <td>1</td>\n",
       "      <td>10</td>\n",
       "      <td>7</td>\n",
       "      <td>NaN</td>\n",
       "      <td>3</td>\n",
       "      <td>2</td>\n",
       "      <td>...</td>\n",
       "      <td>5.0</td>\n",
       "      <td>7.0</td>\n",
       "      <td>7.0</td>\n",
       "      <td>7.0</td>\n",
       "      <td>7.0</td>\n",
       "      <td>NaN</td>\n",
       "      <td>NaN</td>\n",
       "      <td>NaN</td>\n",
       "      <td>NaN</td>\n",
       "      <td>NaN</td>\n",
       "    </tr>\n",
       "    <tr>\n",
       "      <th>2</th>\n",
       "      <td>1</td>\n",
       "      <td>1.0</td>\n",
       "      <td>0</td>\n",
       "      <td>1</td>\n",
       "      <td>1</td>\n",
       "      <td>10</td>\n",
       "      <td>7</td>\n",
       "      <td>NaN</td>\n",
       "      <td>10</td>\n",
       "      <td>3</td>\n",
       "      <td>...</td>\n",
       "      <td>5.0</td>\n",
       "      <td>7.0</td>\n",
       "      <td>7.0</td>\n",
       "      <td>7.0</td>\n",
       "      <td>7.0</td>\n",
       "      <td>NaN</td>\n",
       "      <td>NaN</td>\n",
       "      <td>NaN</td>\n",
       "      <td>NaN</td>\n",
       "      <td>NaN</td>\n",
       "    </tr>\n",
       "    <tr>\n",
       "      <th>3</th>\n",
       "      <td>1</td>\n",
       "      <td>1.0</td>\n",
       "      <td>0</td>\n",
       "      <td>1</td>\n",
       "      <td>1</td>\n",
       "      <td>10</td>\n",
       "      <td>7</td>\n",
       "      <td>NaN</td>\n",
       "      <td>5</td>\n",
       "      <td>4</td>\n",
       "      <td>...</td>\n",
       "      <td>5.0</td>\n",
       "      <td>7.0</td>\n",
       "      <td>7.0</td>\n",
       "      <td>7.0</td>\n",
       "      <td>7.0</td>\n",
       "      <td>NaN</td>\n",
       "      <td>NaN</td>\n",
       "      <td>NaN</td>\n",
       "      <td>NaN</td>\n",
       "      <td>NaN</td>\n",
       "    </tr>\n",
       "    <tr>\n",
       "      <th>4</th>\n",
       "      <td>1</td>\n",
       "      <td>1.0</td>\n",
       "      <td>0</td>\n",
       "      <td>1</td>\n",
       "      <td>1</td>\n",
       "      <td>10</td>\n",
       "      <td>7</td>\n",
       "      <td>NaN</td>\n",
       "      <td>7</td>\n",
       "      <td>5</td>\n",
       "      <td>...</td>\n",
       "      <td>5.0</td>\n",
       "      <td>7.0</td>\n",
       "      <td>7.0</td>\n",
       "      <td>7.0</td>\n",
       "      <td>7.0</td>\n",
       "      <td>NaN</td>\n",
       "      <td>NaN</td>\n",
       "      <td>NaN</td>\n",
       "      <td>NaN</td>\n",
       "      <td>NaN</td>\n",
       "    </tr>\n",
       "    <tr>\n",
       "      <th>...</th>\n",
       "      <td>...</td>\n",
       "      <td>...</td>\n",
       "      <td>...</td>\n",
       "      <td>...</td>\n",
       "      <td>...</td>\n",
       "      <td>...</td>\n",
       "      <td>...</td>\n",
       "      <td>...</td>\n",
       "      <td>...</td>\n",
       "      <td>...</td>\n",
       "      <td>...</td>\n",
       "      <td>...</td>\n",
       "      <td>...</td>\n",
       "      <td>...</td>\n",
       "      <td>...</td>\n",
       "      <td>...</td>\n",
       "      <td>...</td>\n",
       "      <td>...</td>\n",
       "      <td>...</td>\n",
       "      <td>...</td>\n",
       "      <td>...</td>\n",
       "    </tr>\n",
       "    <tr>\n",
       "      <th>8373</th>\n",
       "      <td>552</td>\n",
       "      <td>22.0</td>\n",
       "      <td>1</td>\n",
       "      <td>2</td>\n",
       "      <td>21</td>\n",
       "      <td>22</td>\n",
       "      <td>14</td>\n",
       "      <td>10.0</td>\n",
       "      <td>5</td>\n",
       "      <td>18</td>\n",
       "      <td>...</td>\n",
       "      <td>8.0</td>\n",
       "      <td>5.0</td>\n",
       "      <td>7.0</td>\n",
       "      <td>6.0</td>\n",
       "      <td>7.0</td>\n",
       "      <td>9.0</td>\n",
       "      <td>5.0</td>\n",
       "      <td>9.0</td>\n",
       "      <td>5.0</td>\n",
       "      <td>6.0</td>\n",
       "    </tr>\n",
       "    <tr>\n",
       "      <th>8374</th>\n",
       "      <td>552</td>\n",
       "      <td>22.0</td>\n",
       "      <td>1</td>\n",
       "      <td>2</td>\n",
       "      <td>21</td>\n",
       "      <td>22</td>\n",
       "      <td>13</td>\n",
       "      <td>10.0</td>\n",
       "      <td>4</td>\n",
       "      <td>19</td>\n",
       "      <td>...</td>\n",
       "      <td>8.0</td>\n",
       "      <td>5.0</td>\n",
       "      <td>7.0</td>\n",
       "      <td>6.0</td>\n",
       "      <td>7.0</td>\n",
       "      <td>9.0</td>\n",
       "      <td>5.0</td>\n",
       "      <td>9.0</td>\n",
       "      <td>5.0</td>\n",
       "      <td>6.0</td>\n",
       "    </tr>\n",
       "    <tr>\n",
       "      <th>8375</th>\n",
       "      <td>552</td>\n",
       "      <td>22.0</td>\n",
       "      <td>1</td>\n",
       "      <td>2</td>\n",
       "      <td>21</td>\n",
       "      <td>22</td>\n",
       "      <td>19</td>\n",
       "      <td>10.0</td>\n",
       "      <td>10</td>\n",
       "      <td>20</td>\n",
       "      <td>...</td>\n",
       "      <td>8.0</td>\n",
       "      <td>5.0</td>\n",
       "      <td>7.0</td>\n",
       "      <td>6.0</td>\n",
       "      <td>7.0</td>\n",
       "      <td>9.0</td>\n",
       "      <td>5.0</td>\n",
       "      <td>9.0</td>\n",
       "      <td>5.0</td>\n",
       "      <td>6.0</td>\n",
       "    </tr>\n",
       "    <tr>\n",
       "      <th>8376</th>\n",
       "      <td>552</td>\n",
       "      <td>22.0</td>\n",
       "      <td>1</td>\n",
       "      <td>2</td>\n",
       "      <td>21</td>\n",
       "      <td>22</td>\n",
       "      <td>3</td>\n",
       "      <td>10.0</td>\n",
       "      <td>16</td>\n",
       "      <td>21</td>\n",
       "      <td>...</td>\n",
       "      <td>8.0</td>\n",
       "      <td>5.0</td>\n",
       "      <td>7.0</td>\n",
       "      <td>6.0</td>\n",
       "      <td>7.0</td>\n",
       "      <td>9.0</td>\n",
       "      <td>5.0</td>\n",
       "      <td>9.0</td>\n",
       "      <td>5.0</td>\n",
       "      <td>6.0</td>\n",
       "    </tr>\n",
       "    <tr>\n",
       "      <th>8377</th>\n",
       "      <td>552</td>\n",
       "      <td>NaN</td>\n",
       "      <td>1</td>\n",
       "      <td>2</td>\n",
       "      <td>21</td>\n",
       "      <td>22</td>\n",
       "      <td>2</td>\n",
       "      <td>10.0</td>\n",
       "      <td>15</td>\n",
       "      <td>22</td>\n",
       "      <td>...</td>\n",
       "      <td>8.0</td>\n",
       "      <td>5.0</td>\n",
       "      <td>7.0</td>\n",
       "      <td>6.0</td>\n",
       "      <td>7.0</td>\n",
       "      <td>9.0</td>\n",
       "      <td>5.0</td>\n",
       "      <td>9.0</td>\n",
       "      <td>5.0</td>\n",
       "      <td>6.0</td>\n",
       "    </tr>\n",
       "  </tbody>\n",
       "</table>\n",
       "<p>8378 rows × 194 columns</p>\n",
       "</div>"
      ],
      "text/plain": [
       "      iid    id  gender  condtn  wave  round  position  positin1  order  \\\n",
       "0       1   1.0       0       1     1     10         7       NaN      4   \n",
       "1       1   1.0       0       1     1     10         7       NaN      3   \n",
       "2       1   1.0       0       1     1     10         7       NaN     10   \n",
       "3       1   1.0       0       1     1     10         7       NaN      5   \n",
       "4       1   1.0       0       1     1     10         7       NaN      7   \n",
       "...   ...   ...     ...     ...   ...    ...       ...       ...    ...   \n",
       "8373  552  22.0       1       2    21     22        14      10.0      5   \n",
       "8374  552  22.0       1       2    21     22        13      10.0      4   \n",
       "8375  552  22.0       1       2    21     22        19      10.0     10   \n",
       "8376  552  22.0       1       2    21     22         3      10.0     16   \n",
       "8377  552   NaN       1       2    21     22         2      10.0     15   \n",
       "\n",
       "      partner  ...  attr3_3  sinc3_3  intel3_3  fun3_3  amb3_3  attr5_3  \\\n",
       "0           1  ...      5.0      7.0       7.0     7.0     7.0      NaN   \n",
       "1           2  ...      5.0      7.0       7.0     7.0     7.0      NaN   \n",
       "2           3  ...      5.0      7.0       7.0     7.0     7.0      NaN   \n",
       "3           4  ...      5.0      7.0       7.0     7.0     7.0      NaN   \n",
       "4           5  ...      5.0      7.0       7.0     7.0     7.0      NaN   \n",
       "...       ...  ...      ...      ...       ...     ...     ...      ...   \n",
       "8373       18  ...      8.0      5.0       7.0     6.0     7.0      9.0   \n",
       "8374       19  ...      8.0      5.0       7.0     6.0     7.0      9.0   \n",
       "8375       20  ...      8.0      5.0       7.0     6.0     7.0      9.0   \n",
       "8376       21  ...      8.0      5.0       7.0     6.0     7.0      9.0   \n",
       "8377       22  ...      8.0      5.0       7.0     6.0     7.0      9.0   \n",
       "\n",
       "      sinc5_3  intel5_3  fun5_3  amb5_3  \n",
       "0         NaN       NaN     NaN     NaN  \n",
       "1         NaN       NaN     NaN     NaN  \n",
       "2         NaN       NaN     NaN     NaN  \n",
       "3         NaN       NaN     NaN     NaN  \n",
       "4         NaN       NaN     NaN     NaN  \n",
       "...       ...       ...     ...     ...  \n",
       "8373      5.0       9.0     5.0     6.0  \n",
       "8374      5.0       9.0     5.0     6.0  \n",
       "8375      5.0       9.0     5.0     6.0  \n",
       "8376      5.0       9.0     5.0     6.0  \n",
       "8377      5.0       9.0     5.0     6.0  \n",
       "\n",
       "[8378 rows x 194 columns]"
      ]
     },
     "execution_count": 94,
     "metadata": {},
     "output_type": "execute_result"
    }
   ],
   "source": [
    "data.drop([\"id\"], axis=1)\n",
    "data.drop([\"idg\"], axis=1)"
   ]
  },
  {
   "cell_type": "code",
   "execution_count": 95,
   "metadata": {},
   "outputs": [
    {
     "data": {
      "text/plain": [
       "1    277\n",
       "0    274\n",
       "Name: gender, dtype: int64"
      ]
     },
     "execution_count": 95,
     "metadata": {},
     "output_type": "execute_result"
    }
   ],
   "source": [
    "data.drop_duplicates(subset=[\"iid\"]).gender.value_counts()"
   ]
  },
  {
   "cell_type": "code",
   "execution_count": 96,
   "metadata": {},
   "outputs": [],
   "source": [
    "data = data.drop(['round', \"position\", \"order\",\n",
    "                  \"partner\", 'age_o', 'race_o', 'pf_o_att', \n",
    "                  'pf_o_sin', 'pf_o_int',\n",
    "                  'pf_o_fun', 'pf_o_amb', 'pf_o_sha',\n",
    "                  'dec_o', 'attr_o', 'sinc_o', 'intel_o', 'fun_o',\n",
    "                  'amb_o', 'shar_o', 'like_o', 'prob_o','met_o'], \n",
    "                 axis=1)"
   ]
  },
  {
   "cell_type": "code",
   "execution_count": 97,
   "metadata": {},
   "outputs": [
    {
     "data": {
      "text/plain": [
       "<AxesSubplot:>"
      ]
     },
     "execution_count": 97,
     "metadata": {},
     "output_type": "execute_result"
    },
    {
     "data": {
      "image/png": "[encoded data removed]",
      "text/plain": [
       "<Figure size 432x288 with 1 Axes>"
      ]
     },
     "metadata": {
      "needs_background": "light"
     },
     "output_type": "display_data"
    }
   ],
   "source": [
    "data.drop_duplicates(subset=['iid']).age.hist(bins=20)"
   ]
  },
  {
   "cell_type": "code",
   "execution_count": 98,
   "metadata": {},
   "outputs": [],
   "source": [
    "data = data.dropna(subset=['age'])"
   ]
  },
  {
   "cell_type": "code",
   "execution_count": 99,
   "metadata": {},
   "outputs": [],
   "source": [
    "data.loc[:, 'field_cd'] = data.loc[:, 'field_cd'].fillna(19)"
   ]
  },
  {
   "cell_type": "code",
   "execution_count": 100,
   "metadata": {},
   "outputs": [],
   "source": [
    "data = data.drop(['field'], axis=1)"
   ]
  },
  {
   "cell_type": "code",
   "execution_count": 101,
   "metadata": {},
   "outputs": [
    {
     "data": {
      "text/plain": [
       "0        1.0\n",
       "1        1.0\n",
       "2        1.0\n",
       "3        1.0\n",
       "4        1.0\n",
       "        ... \n",
       "8373    18.0\n",
       "8374    18.0\n",
       "8375    18.0\n",
       "8376    18.0\n",
       "8377    18.0\n",
       "Name: field_cd, Length: 8283, dtype: float64"
      ]
     },
     "execution_count": 101,
     "metadata": {},
     "output_type": "execute_result"
    }
   ],
   "source": [
    "data.field_cd"
   ]
  },
  {
   "cell_type": "code",
   "execution_count": 102,
   "metadata": {},
   "outputs": [],
   "source": [
    "def mean_target_encoding(df, target, column):\n",
    "    mean_enc = df.groupby(column)[target].mean()\n",
    "    df[column+'_m_enc'] = df[column].map(mean_enc)\n",
    "    return df\n",
    "data = mean_target_encoding(data, \"match\", \"field_cd\")"
   ]
  },
  {
   "cell_type": "code",
   "execution_count": 103,
   "metadata": {},
   "outputs": [
    {
     "data": {
      "text/plain": [
       "0       0.204511\n",
       "1       0.204511\n",
       "2       0.204511\n",
       "3       0.204511\n",
       "4       0.204511\n",
       "          ...   \n",
       "8373    0.153846\n",
       "8374    0.153846\n",
       "8375    0.153846\n",
       "8376    0.153846\n",
       "8377    0.153846\n",
       "Name: field_cd_m_enc, Length: 8283, dtype: float64"
      ]
     },
     "execution_count": 103,
     "metadata": {},
     "output_type": "execute_result"
    }
   ],
   "source": [
    "data.field_cd_m_enc"
   ]
  },
  {
   "cell_type": "code",
   "execution_count": 104,
   "metadata": {},
   "outputs": [],
   "source": [
    "data = data.drop(['field_cd'], axis=1)"
   ]
  },
  {
   "cell_type": "code",
   "execution_count": 105,
   "metadata": {},
   "outputs": [],
   "source": [
    "data = data.drop(['undergra'], axis=1)"
   ]
  },
  {
   "cell_type": "code",
   "execution_count": 106,
   "metadata": {
    "tags": []
   },
   "outputs": [
    {
     "name": "stderr",
     "output_type": "stream",
     "text": [
      "/home/vga/miniconda3/envs/sphere-py37/lib/python3.7/site-packages/ipykernel_launcher.py:1: DeprecationWarning: `np.float` is a deprecated alias for the builtin `float`. To silence this warning, use `float` by itself. Doing this will not modify any behavior and is safe. If you specifically wanted the numpy scalar type, use `np.float64` here.\n",
      "Deprecated in NumPy 1.20; for more details and guidance: https://numpy.org/devdocs/release/1.20.0-notes.html#deprecations\n",
      "  \"\"\"Entry point for launching an IPython kernel.\n"
     ]
    }
   ],
   "source": [
    "data.loc[:, 'mn_sat'] = data.loc[:, 'mn_sat'].str.replace(',', '').astype(np.float)"
   ]
  },
  {
   "cell_type": "code",
   "execution_count": 107,
   "metadata": {},
   "outputs": [
    {
     "data": {
      "text/plain": [
       "<AxesSubplot:>"
      ]
     },
     "execution_count": 107,
     "metadata": {},
     "output_type": "execute_result"
    },
    {
     "data": {
      "image/png": "[encoded data removed]",
      "text/plain": [
       "<Figure size 432x288 with 1 Axes>"
      ]
     },
     "metadata": {
      "needs_background": "light"
     },
     "output_type": "display_data"
    }
   ],
   "source": [
    "data.drop_duplicates('iid').mn_sat.hist()"
   ]
  },
  {
   "cell_type": "markdown",
   "metadata": {},
   "source": [
    "Заполним пропуски индикатором - нулем"
   ]
  },
  {
   "cell_type": "code",
   "execution_count": 108,
   "metadata": {},
   "outputs": [],
   "source": [
    "data[\"mn_sat\"] = data[\"mn_sat\"].fillna(0)"
   ]
  },
  {
   "cell_type": "code",
   "execution_count": 109,
   "metadata": {},
   "outputs": [
    {
     "data": {
      "text/plain": [
       "<AxesSubplot:>"
      ]
     },
     "execution_count": 109,
     "metadata": {},
     "output_type": "execute_result"
    },
    {
     "data": {
      "image/png": "[encoded data removed]",
      "text/plain": [
       "<Figure size 432x288 with 1 Axes>"
      ]
     },
     "metadata": {
      "needs_background": "light"
     },
     "output_type": "display_data"
    }
   ],
   "source": [
    "data.drop_duplicates('iid').mn_sat.hist()"
   ]
  },
  {
   "cell_type": "code",
   "execution_count": 110,
   "metadata": {},
   "outputs": [],
   "source": [
    "data.loc[:, 'tuition'] = data.loc[:, 'tuition'].str.replace(',', '').astype(float)"
   ]
  },
  {
   "cell_type": "code",
   "execution_count": 111,
   "metadata": {},
   "outputs": [
    {
     "data": {
      "text/plain": [
       "<AxesSubplot:>"
      ]
     },
     "execution_count": 111,
     "metadata": {},
     "output_type": "execute_result"
    },
    {
     "data": {
      "image/png": "[encoded data removed]",
      "text/plain": [
       "<Figure size 432x288 with 1 Axes>"
      ]
     },
     "metadata": {
      "needs_background": "light"
     },
     "output_type": "display_data"
    }
   ],
   "source": [
    "data.drop_duplicates('iid').tuition.hist()"
   ]
  },
  {
   "cell_type": "code",
   "execution_count": 112,
   "metadata": {},
   "outputs": [],
   "source": [
    "data[\"tuition\"] = data[\"tuition\"].fillna(-10000)"
   ]
  },
  {
   "cell_type": "code",
   "execution_count": 113,
   "metadata": {},
   "outputs": [],
   "source": [
    "data = mean_target_encoding(data, \"match\", \"race\")"
   ]
  },
  {
   "cell_type": "code",
   "execution_count": 114,
   "metadata": {},
   "outputs": [],
   "source": [
    "data = data.drop(['race'], axis=1)"
   ]
  },
  {
   "cell_type": "code",
   "execution_count": 115,
   "metadata": {},
   "outputs": [
    {
     "data": {
      "text/plain": [
       "1"
      ]
     },
     "execution_count": 115,
     "metadata": {},
     "output_type": "execute_result"
    }
   ],
   "source": [
    "data.drop_duplicates('iid').imprace.isnull().sum()"
   ]
  },
  {
   "cell_type": "code",
   "execution_count": 116,
   "metadata": {},
   "outputs": [
    {
     "data": {
      "text/plain": [
       "1"
      ]
     },
     "execution_count": 116,
     "metadata": {},
     "output_type": "execute_result"
    }
   ],
   "source": [
    "data.drop_duplicates('iid').imprelig.isnull().sum()\n"
   ]
  },
  {
   "cell_type": "code",
   "execution_count": 117,
   "metadata": {},
   "outputs": [],
   "source": [
    "data = data.dropna(subset=['imprelig', 'imprace'])"
   ]
  },
  {
   "cell_type": "code",
   "execution_count": 118,
   "metadata": {},
   "outputs": [],
   "source": [
    "data = data.drop(['from', 'zipcode'], axis=1)"
   ]
  },
  {
   "cell_type": "code",
   "execution_count": 119,
   "metadata": {},
   "outputs": [],
   "source": [
    "data.loc[:, 'income'] = data.loc[:, 'income'].str.replace(',', '').astype(float)"
   ]
  },
  {
   "cell_type": "code",
   "execution_count": 120,
   "metadata": {},
   "outputs": [],
   "source": [
    "data = data.drop(['income'], axis=1)"
   ]
  },
  {
   "cell_type": "code",
   "execution_count": 121,
   "metadata": {},
   "outputs": [],
   "source": [
    "data = mean_target_encoding(data, \"match\", \"goal\")\n",
    "data = mean_target_encoding(data, \"match\", \"date\")\n",
    "data = mean_target_encoding(data, \"match\", \"go_out\")"
   ]
  },
  {
   "cell_type": "code",
   "execution_count": 122,
   "metadata": {},
   "outputs": [],
   "source": [
    "data = data.drop(['goal'], axis=1)\n",
    "data = data.drop(['date'], axis=1)\n",
    "data = data.drop(['go_out'], axis=1)"
   ]
  },
  {
   "cell_type": "code",
   "execution_count": 123,
   "metadata": {
    "collapsed": true,
    "jupyter": {
     "outputs_hidden": true
    },
    "tags": []
   },
   "outputs": [
    {
     "name": "stdout",
     "output_type": "stream",
     "text": [
      "==========\n",
      "Career Code 1.0\n",
      "['lawyer/policy work' 'lawyer' 'Law' 'Corporate Lawyer' 'Lawyer'\n",
      " 'Corporate attorney' 'law' 'Intellectual Property Attorney' 'LAWYER'\n",
      " 'attorney' 'Lawyer or professional surfer' 'lawyer/gov.position'\n",
      " 'Law or finance' 'IP Law' 'Academic (Law)' 'Private Equity' 'attorney?'\n",
      " 'Corporate law' 'tax lawyer' 'Business/Law' 'Assistant District Attorney']\n",
      "==========\n",
      "Career Code 2.0\n",
      "['Academia, Research, Banking, Life' 'academics or journalism' 'Professor'\n",
      " 'Academic' 'academia' 'teacher' 'industrial scientist'\n",
      " 'teaching and then...' 'Professor of Media Studies'\n",
      " 'Education Administration' 'Academic or Research staff'\n",
      " 'University Professor' 'Research Scientist'\n",
      " 'research in industry or academia' 'Teacher/Professor'\n",
      " 'no idea, maybe a professor' 'a research position' 'professor' 'teaching'\n",
      " 'engineering professional' 'research' 'Neuroscientist/Professor'\n",
      " 'Education' 'Professor and Government Official'\n",
      " 'physicist, probably academia' 'college art teacher' 'academic'\n",
      " 'Research scientist, professor' 'academics' 'academic research'\n",
      " 'academician' 'professional student' 'education' 'Historian'\n",
      " 'college professor' 'scientific research' 'Academic Physician'\n",
      " 'Researcher' 'Professor or Consultant' 'History Professor'\n",
      " 'Educational Policy' 'elementary school teacher' 'Research/Teaching'\n",
      " 'researcher in sociology' 'scientist' 'Naturalist'\n",
      " 'professor, poet/critic' 'researcher/academia' 'Art educator and Artist'\n",
      " 'Teacher' 'Scientist' 'Scientist/educator'\n",
      " 'scientific research for now but who knows' 'College Professor'\n",
      " 'Professor or Lawyer' 'research position in pharmaceutical industry'\n",
      " 'Academia' 'research/academia' 'Secondary Education Teacher'\n",
      " 'High School Social Studies Teacher' 'Education Policy Analyst'\n",
      " 'Literacy Organization head/ Director of Development for non-profit'\n",
      " 'English Teacher' 'Program development / policy work'\n",
      " 'professor of education' 'Educator' 'teaching/education'\n",
      " 'professor in college' 'Academia; Research; Teaching'\n",
      " 'curriculum developer' 'academic or consulting' 'Academia or UN'\n",
      " 'I am a teacher.' 'Professor or journalist'\n",
      " 'to get Ph.D and be a professor'\n",
      " 'Early Childhood Ed. - College/univ. faculity'\n",
      " 'medical examiner or researcher' 'University President'\n",
      " 'EDUCATION ADMINISTRATION' 'music educator, performer'\n",
      " 'Elementary Education Teaching' 'research - teaching' 'Research'\n",
      " 'Elementary school teacher' 'Bilingual Elementary School Teacher'\n",
      " 'Professor, or Engineer' 'Professor; Human Rights Director'\n",
      " 'Clinic Trial' 'English teacher' 'writer/teacher' 'Professor...?'\n",
      " 'acadeic' 'researcher' 'biology industry' 'Epidemiologist'\n",
      " 'epidemiologist' 'teacher and performer' 'TEACHING' 'Academic/ Finance'\n",
      " 'Science' 'Academic Work, Consultant']\n",
      "==========\n",
      "Career Code 3.0\n",
      "['psychologist' 'Social Worker.... Clinician' 'Psychologist'\n",
      " 'school psychologist' 'School Psychologist' 'Clinical Psychology'\n",
      " 'Clinical Psychologist' 'clinical psychologist, researcher, professor'\n",
      " 'School Counseling' 'Sex Therapist']\n",
      "==========\n",
      "Career Code 4.0\n",
      "['Biostatistics' 'Medicine' 'pharmaceuticals' 'Cardiologist' 'Pediatrics'\n",
      " 'medicine' 'pharmaceuticals and biotechnology' 'Physician Scientist'\n",
      " 'health policy' 'Epidemiologist' 'nutrition and dental' 'Physician'\n",
      " 'dietician' 'doctor and entrepreneur' 'Healthcare' 'Nutritionist'\n",
      " 'Private practice Dietician' 'physician, informaticist' 'physician'\n",
      " 'Medical Sciences' 'physician/healthcare' 'Doctor']\n",
      "==========\n",
      "Career Code 5.0\n",
      "['Informatics' 'Engineer' 'Ph.D. Electrical Engineering'\n",
      " 'Operations Research' 'Engineering' 'Mechanical Engineering'\n",
      " 'Civil Engineer' 'Urban Planner' 'Planning' 'ASIC Engineer'\n",
      " 'software engr, network engr' 'Research Engineer']\n",
      "==========\n",
      "Career Code 6.0\n",
      "['Journalist' \"Clidren's TV\" 'Music production' 'comedienne' 'novelist'\n",
      " 'Journalism' 'film' 'Writer' 'Porn Star' 'boxing champ'\n",
      " 'Paper Back Writer'\n",
      " 'Poet, Writer, Singer, Policy Maker with the UN and/or Indian Govt.'\n",
      " 'Entertainment/Sports' 'WRITING' 'manage a museum or art gallery'\n",
      " 'Entertainment/Media' 'Film/Television' 'Writing'\n",
      " 'Museum Work (Curation?)' 'Music Industry' 'Artist' 'Art Management'\n",
      " 'film directing' 'Screenwriter' 'Filmmaker' 'Writer/teacher'\n",
      " 'Writing or Editorial' 'writer/editor'\n",
      " 'producer at a non-profit regional theatre' 'writer' 'playing music'\n",
      " 'writer/producer' 'film and radio' 'Film' 'Writer/Editor' 'Actress'\n",
      " 'Acting']\n",
      "==========\n",
      "Career Code 7.0\n",
      "['research/financial industry' 'Financial Services' 'ceo' 'CEO' 'Banking'\n",
      " 'Capital Markets' 'Organizational Change Consultant' 'banker / academia'\n",
      " 'banker' 'Entrepreneur' 'consulting' 'Private Equity Investing'\n",
      " 'Investment Banking' 'Engineer or iBanker or consultant' 'Trading'\n",
      " 'Economic research' 'Microfinancing Program Manager' 'Marketing'\n",
      " 'Business - Investment Management' 'Finance' 'business'\n",
      " 'Marketing, Advertising' 'Asset Management' 'investment banking' 'MBA'\n",
      " 'Business' 'finance' 'Marketing and Media' 'Brand Management'\n",
      " 'Management Consulting' 'management consulting'\n",
      " 'financial service or fashion' 'International Business' 'Private Equity'\n",
      " 'Investment Management' 'Development work' 'marketing / brand management'\n",
      " 'Biotech/business' 'Country Analysis/Research/Credit Analysis'\n",
      " 'Consulting' 'corporate finance'\n",
      " 'CEO in For Profit Biomedical Organization' 'banking'\n",
      " 'Conservation training and education' 'president' 'Management Consultant'\n",
      " 'Trader' 'Wall Street Economist' 'enterpreneur' 'Industry CTO/CEO'\n",
      " 'finance or engineering' 'Venture Capital/Consulting/Government'\n",
      " \"Int'l Business\" 'Pharmaceuticals/Consulting' 'Investment banking'\n",
      " 'International Development banker'\n",
      " 'Corporate Finance, Asset Management/ Hedge Funds'\n",
      " 'Real Estate Consulting' 'Director of Training and Development'\n",
      " 'Marketing or Strategy and Business Development' 'Business Consulting'\n",
      " 'CONSULTING' 'investment management' 'Finance Related'\n",
      " 'Media Marketing/Entrepreneurship' 'Director of Admissions'\n",
      " 'Consultin \\\\ Management'\n",
      " 'Financial Mathematics-Investment Bank or Hedge Fund-Derivatives Quant Analyst'\n",
      " 'Work in an investment bank' 'M&A Advisory' 'millionaire'\n",
      " 'Fundraising for Non-Profits' 'Money Management' 'General Management'\n",
      " 'Public School Principal' 'Media Management' 'Public Finance'\n",
      " 'Business Management' 'private equity' 'Health care finance'\n",
      " 'Entrepreneurship' 'Fixed Income Sales & Trading'\n",
      " 'Consulting, later Arts or Non-Profit' 'Finance/Economics'\n",
      " 'Investment Banker' 'consultant'\n",
      " 'Business Management and Information Technology' 'self-made millionare'\n",
      " 'To go into Finance' 'Private Equity - Leveraged Buy-Outs' 'Management'\n",
      " 'General management/consulting']\n",
      "==========\n",
      "Career Code 8.0\n",
      "['Real Estate' 'Real Estate/ Private Equity']\n",
      "==========\n",
      "Career Code 9.0\n",
      "['Congresswoman, and comedian'\n",
      " 'To create early childhood intervention programs'\n",
      " 'health/nutrition oriented social worker' 'Social Worker'\n",
      " 'Social work with children' 'Speech Language Pathologist'\n",
      " 'Social Work Administration' 'social worker' 'Social Services/ Policy'\n",
      " 'Clinical Social Worker' 'international development work' 'Nonprofit'\n",
      " 'Child Rights' 'Development work on field in the middle of nowhere'\n",
      " 'International Development' 'UN Civil Servant'\n",
      " 'Humanitarian Affairs/Human Rights'\n",
      " 'International affairs related career' 'public service'\n",
      " 'Security Policy - Homeland Defense'\n",
      " 'reorganizing society. no, I am not being flip.' 'Intl Development'\n",
      " \"Diplomat / Int'l civil servant\" 'Diplomat/Business'\n",
      " 'Economic Policy Advisor on Latin America' 'Energy Management' 'Diplomat'\n",
      " 'Work at the UN' 'Foreign Service'\n",
      " 'Exec. Director of social service non-profit']\n",
      "==========\n",
      "Career Code 10.0\n",
      "['Undecided' \"I don't know\" 'What a question!' 'if only i knew'\n",
      " \"don't know\" 'Not Sure' 'undecided' 'TBA' 'Am not sure' 'Who knows' '?'\n",
      " 'not sure yet :)' 'Make money' 'still wondering' 'Not sure yet' 'unknown'\n",
      " 'unsure' '??' 'dont know yet']\n",
      "==========\n",
      "Career Code 11.0\n",
      "['Social Worker' 'Counseling Adolescents' 'Social work' 'Social Work'\n",
      " 'Social Work Policy' 'Clinical Social Worker']\n",
      "==========\n",
      "Career Code 12.0\n",
      "['speech pathologist' 'Speech Pathologist']\n",
      "==========\n",
      "Career Code 13.0\n",
      "['GOVERNOR' 'Political Development in Africa' 'Lobbyist' 'politics'\n",
      " 'School Leadership/Politics']\n",
      "==========\n",
      "Career Code 14.0\n",
      "['Pro Beach Volleyball']\n",
      "==========\n",
      "Career Code 15.0\n",
      "['Hero' 'Energy' 'Trade Specialist' 'professional career'\n",
      " \"assistant master of the universe (otherwise it's too much work)\"]\n",
      "==========\n",
      "Career Code 16.0\n",
      "['journalism' 'Writer/journalist']\n",
      "==========\n",
      "Career Code 17.0\n",
      "['Architecture and design']\n"
     ]
    }
   ],
   "source": [
    "for i, group in data.groupby('career_c'):\n",
    "    print('=' * 10)\n",
    "    print('Career Code {}'.format(i))\n",
    "    print(group.career.unique())"
   ]
  },
  {
   "cell_type": "code",
   "execution_count": 124,
   "metadata": {},
   "outputs": [],
   "source": [
    "data = mean_target_encoding(data, \"match\", \"career_c\")\n",
    "data = data.drop(['career_c', \"career\"], axis=1)"
   ]
  },
  {
   "cell_type": "code",
   "execution_count": 125,
   "metadata": {},
   "outputs": [],
   "source": [
    "data = data.drop(['sports','tvsports','exercise','dining','museums','art','hiking','gaming',\n",
    "       'clubbing','reading','tv','theater','movies','concerts','music','shopping','yoga'], axis=1)"
   ]
  },
  {
   "cell_type": "code",
   "execution_count": 126,
   "metadata": {},
   "outputs": [],
   "source": [
    "data = data.drop(['expnum'], axis=1)"
   ]
  },
  {
   "cell_type": "code",
   "execution_count": 127,
   "metadata": {},
   "outputs": [],
   "source": [
    "feat = ['iid', 'wave', 'attr1_1', 'sinc1_1', 'intel1_1', 'fun1_1', 'amb1_1', 'shar1_1']\n",
    "temp = data.drop_duplicates(subset=['iid', 'wave']).loc[:, feat]\n",
    "temp.loc[:, 'totalsum'] = temp.iloc[:, 2:].sum(axis=1)\n",
    "idx = ((temp.wave < 6) | (temp.wave > 9)) & (temp.totalsum < 99)\n",
    "temp.loc[idx, ]\n",
    "idx = ((temp.wave >= 6) & (temp.wave <= 9))\n",
    "temp.loc[idx, ]\n",
    "data.loc[:, 'temp_totalsum'] = data.loc[:, ['attr1_1', 'sinc1_1', 'intel1_1', 'fun1_1', 'amb1_1', 'shar1_1']].sum(axis=1)\n",
    "data.loc[:, ['attr1_1', 'sinc1_1', 'intel1_1', 'fun1_1', 'amb1_1', 'shar1_1']] = \\\n",
    "(data.loc[:, ['attr1_1', 'sinc1_1', 'intel1_1', 'fun1_1', 'amb1_1', 'shar1_1']].T/data.loc[:, 'temp_totalsum'].T).T * 100"
   ]
  },
  {
   "cell_type": "code",
   "execution_count": 128,
   "metadata": {},
   "outputs": [],
   "source": [
    "feat = ['iid', 'wave', 'attr2_1', 'sinc2_1', 'intel2_1', 'fun2_1', 'amb2_1', 'shar2_1']\n",
    "temp = data.drop_duplicates(subset=['iid', 'wave']).loc[:, feat]\n",
    "temp.loc[:, 'totalsum'] = temp.iloc[:, 2:].sum(axis=1)\n",
    "idx = ((temp.wave < 6) | (temp.wave > 9)) & (temp.totalsum < 90) & (temp.totalsum != 0)\n",
    "temp.loc[idx, ]\n",
    "idx = ((temp.wave >= 6) & (temp.wave <= 9))\n",
    "temp.loc[idx, ]\n",
    "data.loc[:, 'temp_totalsum'] = data.loc[:, ['attr2_1', 'sinc2_1', 'intel2_1', 'fun2_1', 'amb2_1', 'shar2_1']].sum(axis=1)\n",
    "data.loc[:, ['attr2_1', 'sinc2_1', 'intel2_1', 'fun2_1', 'amb2_1', 'shar2_1']] = \\\n",
    "(data.loc[:, ['attr2_1', 'sinc2_1', 'intel2_1', 'fun2_1', 'amb2_1', 'shar2_1']].T/data.loc[:, 'temp_totalsum'].T).T * 100\n",
    "data = data.drop(['temp_totalsum'], axis=1)\n"
   ]
  },
  {
   "cell_type": "code",
   "execution_count": 129,
   "metadata": {},
   "outputs": [],
   "source": [
    "for i in [4, 5]:\n",
    "    feat = ['attr{}_1'.format(i), 'sinc{}_1'.format(i), \n",
    "            'intel{}_1'.format(i), 'fun{}_1'.format(i), \n",
    "            'amb{}_1'.format(i), 'shar{}_1'.format(i)]\n",
    "    \n",
    "    if i != 4:\n",
    "        feat.remove('shar{}_1'.format(i))\n",
    "    \n",
    "    data = data.drop(feat, axis=1)"
   ]
  },
  {
   "cell_type": "code",
   "execution_count": 132,
   "metadata": {},
   "outputs": [],
   "source": [
    "data = data.drop(\"positin1\", axis=1)"
   ]
  },
  {
   "cell_type": "code",
   "execution_count": 137,
   "metadata": {},
   "outputs": [],
   "source": [
    "data = data.dropna(subset=['career_c_m_enc'])"
   ]
  },
  {
   "cell_type": "code",
   "execution_count": 139,
   "metadata": {},
   "outputs": [],
   "source": [
    "data = data.drop(['id'], axis=1)"
   ]
  },
  {
   "cell_type": "code",
   "execution_count": 153,
   "metadata": {
    "collapsed": true,
    "jupyter": {
     "outputs_hidden": true
    },
    "tags": []
   },
   "outputs": [
    {
     "ename": "KeyError",
     "evalue": "\"['attr7_1' 'sinc7_1' 'intel7_1' 'fun7_1' 'amb7_1'] not found in axis\"",
     "output_type": "error",
     "traceback": [
      "\u001b[0;31m---------------------------------------------------------------------------\u001b[0m",
      "\u001b[0;31mKeyError\u001b[0m                                  Traceback (most recent call last)",
      "\u001b[0;32m/tmp/ipykernel_57286/3952542310.py\u001b[0m in \u001b[0;36m<module>\u001b[0;34m\u001b[0m\n\u001b[1;32m      7\u001b[0m         \u001b[0mfeat\u001b[0m\u001b[0;34m.\u001b[0m\u001b[0mremove\u001b[0m\u001b[0;34m(\u001b[0m\u001b[0;34m'shar{}_1'\u001b[0m\u001b[0;34m.\u001b[0m\u001b[0mformat\u001b[0m\u001b[0;34m(\u001b[0m\u001b[0mi\u001b[0m\u001b[0;34m)\u001b[0m\u001b[0;34m)\u001b[0m\u001b[0;34m\u001b[0m\u001b[0;34m\u001b[0m\u001b[0m\n\u001b[1;32m      8\u001b[0m \u001b[0;34m\u001b[0m\u001b[0m\n\u001b[0;32m----> 9\u001b[0;31m     \u001b[0mdata\u001b[0m \u001b[0;34m=\u001b[0m \u001b[0mdata\u001b[0m\u001b[0;34m.\u001b[0m\u001b[0mdrop\u001b[0m\u001b[0;34m(\u001b[0m\u001b[0mfeat\u001b[0m\u001b[0;34m,\u001b[0m \u001b[0maxis\u001b[0m\u001b[0;34m=\u001b[0m\u001b[0;36m1\u001b[0m\u001b[0;34m)\u001b[0m\u001b[0;34m\u001b[0m\u001b[0;34m\u001b[0m\u001b[0m\n\u001b[0m",
      "\u001b[0;32m~/miniconda3/envs/sphere-py37/lib/python3.7/site-packages/pandas/util/_decorators.py\u001b[0m in \u001b[0;36mwrapper\u001b[0;34m(*args, **kwargs)\u001b[0m\n\u001b[1;32m    309\u001b[0m                     \u001b[0mstacklevel\u001b[0m\u001b[0;34m=\u001b[0m\u001b[0mstacklevel\u001b[0m\u001b[0;34m,\u001b[0m\u001b[0;34m\u001b[0m\u001b[0;34m\u001b[0m\u001b[0m\n\u001b[1;32m    310\u001b[0m                 )\n\u001b[0;32m--> 311\u001b[0;31m             \u001b[0;32mreturn\u001b[0m \u001b[0mfunc\u001b[0m\u001b[0;34m(\u001b[0m\u001b[0;34m*\u001b[0m\u001b[0margs\u001b[0m\u001b[0;34m,\u001b[0m \u001b[0;34m**\u001b[0m\u001b[0mkwargs\u001b[0m\u001b[0;34m)\u001b[0m\u001b[0;34m\u001b[0m\u001b[0;34m\u001b[0m\u001b[0m\n\u001b[0m\u001b[1;32m    312\u001b[0m \u001b[0;34m\u001b[0m\u001b[0m\n\u001b[1;32m    313\u001b[0m         \u001b[0;32mreturn\u001b[0m \u001b[0mwrapper\u001b[0m\u001b[0;34m\u001b[0m\u001b[0;34m\u001b[0m\u001b[0m\n",
      "\u001b[0;32m~/miniconda3/envs/sphere-py37/lib/python3.7/site-packages/pandas/core/frame.py\u001b[0m in \u001b[0;36mdrop\u001b[0;34m(self, labels, axis, index, columns, level, inplace, errors)\u001b[0m\n\u001b[1;32m   4911\u001b[0m             \u001b[0mlevel\u001b[0m\u001b[0;34m=\u001b[0m\u001b[0mlevel\u001b[0m\u001b[0;34m,\u001b[0m\u001b[0;34m\u001b[0m\u001b[0;34m\u001b[0m\u001b[0m\n\u001b[1;32m   4912\u001b[0m             \u001b[0minplace\u001b[0m\u001b[0;34m=\u001b[0m\u001b[0minplace\u001b[0m\u001b[0;34m,\u001b[0m\u001b[0;34m\u001b[0m\u001b[0;34m\u001b[0m\u001b[0m\n\u001b[0;32m-> 4913\u001b[0;31m             \u001b[0merrors\u001b[0m\u001b[0;34m=\u001b[0m\u001b[0merrors\u001b[0m\u001b[0;34m,\u001b[0m\u001b[0;34m\u001b[0m\u001b[0;34m\u001b[0m\u001b[0m\n\u001b[0m\u001b[1;32m   4914\u001b[0m         )\n\u001b[1;32m   4915\u001b[0m \u001b[0;34m\u001b[0m\u001b[0m\n",
      "\u001b[0;32m~/miniconda3/envs/sphere-py37/lib/python3.7/site-packages/pandas/core/generic.py\u001b[0m in \u001b[0;36mdrop\u001b[0;34m(self, labels, axis, index, columns, level, inplace, errors)\u001b[0m\n\u001b[1;32m   4148\u001b[0m         \u001b[0;32mfor\u001b[0m \u001b[0maxis\u001b[0m\u001b[0;34m,\u001b[0m \u001b[0mlabels\u001b[0m \u001b[0;32min\u001b[0m \u001b[0maxes\u001b[0m\u001b[0;34m.\u001b[0m\u001b[0mitems\u001b[0m\u001b[0;34m(\u001b[0m\u001b[0;34m)\u001b[0m\u001b[0;34m:\u001b[0m\u001b[0;34m\u001b[0m\u001b[0;34m\u001b[0m\u001b[0m\n\u001b[1;32m   4149\u001b[0m             \u001b[0;32mif\u001b[0m \u001b[0mlabels\u001b[0m \u001b[0;32mis\u001b[0m \u001b[0;32mnot\u001b[0m \u001b[0;32mNone\u001b[0m\u001b[0;34m:\u001b[0m\u001b[0;34m\u001b[0m\u001b[0;34m\u001b[0m\u001b[0m\n\u001b[0;32m-> 4150\u001b[0;31m                 \u001b[0mobj\u001b[0m \u001b[0;34m=\u001b[0m \u001b[0mobj\u001b[0m\u001b[0;34m.\u001b[0m\u001b[0m_drop_axis\u001b[0m\u001b[0;34m(\u001b[0m\u001b[0mlabels\u001b[0m\u001b[0;34m,\u001b[0m \u001b[0maxis\u001b[0m\u001b[0;34m,\u001b[0m \u001b[0mlevel\u001b[0m\u001b[0;34m=\u001b[0m\u001b[0mlevel\u001b[0m\u001b[0;34m,\u001b[0m \u001b[0merrors\u001b[0m\u001b[0;34m=\u001b[0m\u001b[0merrors\u001b[0m\u001b[0;34m)\u001b[0m\u001b[0;34m\u001b[0m\u001b[0;34m\u001b[0m\u001b[0m\n\u001b[0m\u001b[1;32m   4151\u001b[0m \u001b[0;34m\u001b[0m\u001b[0m\n\u001b[1;32m   4152\u001b[0m         \u001b[0;32mif\u001b[0m \u001b[0minplace\u001b[0m\u001b[0;34m:\u001b[0m\u001b[0;34m\u001b[0m\u001b[0;34m\u001b[0m\u001b[0m\n",
      "\u001b[0;32m~/miniconda3/envs/sphere-py37/lib/python3.7/site-packages/pandas/core/generic.py\u001b[0m in \u001b[0;36m_drop_axis\u001b[0;34m(self, labels, axis, level, errors)\u001b[0m\n\u001b[1;32m   4183\u001b[0m                 \u001b[0mnew_axis\u001b[0m \u001b[0;34m=\u001b[0m \u001b[0maxis\u001b[0m\u001b[0;34m.\u001b[0m\u001b[0mdrop\u001b[0m\u001b[0;34m(\u001b[0m\u001b[0mlabels\u001b[0m\u001b[0;34m,\u001b[0m \u001b[0mlevel\u001b[0m\u001b[0;34m=\u001b[0m\u001b[0mlevel\u001b[0m\u001b[0;34m,\u001b[0m \u001b[0merrors\u001b[0m\u001b[0;34m=\u001b[0m\u001b[0merrors\u001b[0m\u001b[0;34m)\u001b[0m\u001b[0;34m\u001b[0m\u001b[0;34m\u001b[0m\u001b[0m\n\u001b[1;32m   4184\u001b[0m             \u001b[0;32melse\u001b[0m\u001b[0;34m:\u001b[0m\u001b[0;34m\u001b[0m\u001b[0;34m\u001b[0m\u001b[0m\n\u001b[0;32m-> 4185\u001b[0;31m                 \u001b[0mnew_axis\u001b[0m \u001b[0;34m=\u001b[0m \u001b[0maxis\u001b[0m\u001b[0;34m.\u001b[0m\u001b[0mdrop\u001b[0m\u001b[0;34m(\u001b[0m\u001b[0mlabels\u001b[0m\u001b[0;34m,\u001b[0m \u001b[0merrors\u001b[0m\u001b[0;34m=\u001b[0m\u001b[0merrors\u001b[0m\u001b[0;34m)\u001b[0m\u001b[0;34m\u001b[0m\u001b[0;34m\u001b[0m\u001b[0m\n\u001b[0m\u001b[1;32m   4186\u001b[0m             \u001b[0mresult\u001b[0m \u001b[0;34m=\u001b[0m \u001b[0mself\u001b[0m\u001b[0;34m.\u001b[0m\u001b[0mreindex\u001b[0m\u001b[0;34m(\u001b[0m\u001b[0;34m**\u001b[0m\u001b[0;34m{\u001b[0m\u001b[0maxis_name\u001b[0m\u001b[0;34m:\u001b[0m \u001b[0mnew_axis\u001b[0m\u001b[0;34m}\u001b[0m\u001b[0;34m)\u001b[0m\u001b[0;34m\u001b[0m\u001b[0;34m\u001b[0m\u001b[0m\n\u001b[1;32m   4187\u001b[0m \u001b[0;34m\u001b[0m\u001b[0m\n",
      "\u001b[0;32m~/miniconda3/envs/sphere-py37/lib/python3.7/site-packages/pandas/core/indexes/base.py\u001b[0m in \u001b[0;36mdrop\u001b[0;34m(self, labels, errors)\u001b[0m\n\u001b[1;32m   6015\u001b[0m         \u001b[0;32mif\u001b[0m \u001b[0mmask\u001b[0m\u001b[0;34m.\u001b[0m\u001b[0many\u001b[0m\u001b[0;34m(\u001b[0m\u001b[0;34m)\u001b[0m\u001b[0;34m:\u001b[0m\u001b[0;34m\u001b[0m\u001b[0;34m\u001b[0m\u001b[0m\n\u001b[1;32m   6016\u001b[0m             \u001b[0;32mif\u001b[0m \u001b[0merrors\u001b[0m \u001b[0;34m!=\u001b[0m \u001b[0;34m\"ignore\"\u001b[0m\u001b[0;34m:\u001b[0m\u001b[0;34m\u001b[0m\u001b[0;34m\u001b[0m\u001b[0m\n\u001b[0;32m-> 6017\u001b[0;31m                 \u001b[0;32mraise\u001b[0m \u001b[0mKeyError\u001b[0m\u001b[0;34m(\u001b[0m\u001b[0;34mf\"{labels[mask]} not found in axis\"\u001b[0m\u001b[0;34m)\u001b[0m\u001b[0;34m\u001b[0m\u001b[0;34m\u001b[0m\u001b[0m\n\u001b[0m\u001b[1;32m   6018\u001b[0m             \u001b[0mindexer\u001b[0m \u001b[0;34m=\u001b[0m \u001b[0mindexer\u001b[0m\u001b[0;34m[\u001b[0m\u001b[0;34m~\u001b[0m\u001b[0mmask\u001b[0m\u001b[0;34m]\u001b[0m\u001b[0;34m\u001b[0m\u001b[0;34m\u001b[0m\u001b[0m\n\u001b[1;32m   6019\u001b[0m         \u001b[0;32mreturn\u001b[0m \u001b[0mself\u001b[0m\u001b[0;34m.\u001b[0m\u001b[0mdelete\u001b[0m\u001b[0;34m(\u001b[0m\u001b[0mindexer\u001b[0m\u001b[0;34m)\u001b[0m\u001b[0;34m\u001b[0m\u001b[0;34m\u001b[0m\u001b[0m\n",
      "\u001b[0;31mKeyError\u001b[0m: \"['attr7_1' 'sinc7_1' 'intel7_1' 'fun7_1' 'amb7_1'] not found in axis\""
     ]
    }
   ],
   "source": [
    "for i in [7]:\n",
    "    feat = ['attr{}_1'.format(i), 'sinc{}_1'.format(i), \n",
    "            'intel{}_1'.format(i), 'fun{}_1'.format(i), \n",
    "            'amb{}_1'.format(i), 'shar{}_1'.format(i)]\n",
    "    \n",
    "    if i != 4:\n",
    "        feat.remove('shar{}_1'.format(i))\n",
    "    \n",
    "    data = data.drop(feat, axis=1)"
   ]
  },
  {
   "cell_type": "code",
   "execution_count": 174,
   "metadata": {},
   "outputs": [],
   "source": [
    "features = list(data.columns)\n",
    "bad_features = list(filter(lambda x: x[-1].isnumeric() and int(x[-1]) > 1, features))"
   ]
  },
  {
   "cell_type": "code",
   "execution_count": 170,
   "metadata": {},
   "outputs": [],
   "source": [
    "data = data.drop(bad_features, axis=1)"
   ]
  },
  {
   "cell_type": "code",
   "execution_count": 182,
   "metadata": {},
   "outputs": [
    {
     "data": {
      "text/plain": [
       "['attr1_s',\n",
       " 'sinc1_s',\n",
       " 'intel1_s',\n",
       " 'fun1_s',\n",
       " 'amb1_s',\n",
       " 'shar1_s',\n",
       " 'attr3_s',\n",
       " 'sinc3_s',\n",
       " 'intel3_s',\n",
       " 'fun3_s',\n",
       " 'amb3_s']"
      ]
     },
     "execution_count": 182,
     "metadata": {},
     "output_type": "execute_result"
    }
   ],
   "source": [
    "bad_features = list(filter(lambda x: x[-2:] == \"_s\", features))\n",
    "bad_features"
   ]
  },
  {
   "cell_type": "code",
   "execution_count": 183,
   "metadata": {},
   "outputs": [],
   "source": [
    "data = data.drop(bad_features, axis=1)"
   ]
  },
  {
   "cell_type": "code",
   "execution_count": 195,
   "metadata": {},
   "outputs": [],
   "source": [
    "data = data.drop([\"you_call\", \"them_cal\"], axis=1)"
   ]
  },
  {
   "cell_type": "code",
   "execution_count": 212,
   "metadata": {
    "tags": []
   },
   "outputs": [
    {
     "name": "stdout",
     "output_type": "stream",
     "text": [
      "<class 'pandas.core.frame.DataFrame'>\n",
      "Int64Index: 8208 entries, 30 to 8377\n",
      "Data columns (total 44 columns):\n",
      " #   Column          Non-Null Count  Dtype  \n",
      "---  ------          --------------  -----  \n",
      " 0   iid             8208 non-null   int64  \n",
      " 1   gender          8208 non-null   int64  \n",
      " 2   idg             8208 non-null   int64  \n",
      " 3   condtn          8208 non-null   int64  \n",
      " 4   pid             8208 non-null   float64\n",
      " 5   match           8208 non-null   int64  \n",
      " 6   int_corr        8208 non-null   float64\n",
      " 7   samerace        8208 non-null   int64  \n",
      " 8   age             8208 non-null   float64\n",
      " 9   mn_sat          8208 non-null   float64\n",
      " 10  tuition         8208 non-null   float64\n",
      " 11  imprace         8208 non-null   float64\n",
      " 12  imprelig        8208 non-null   float64\n",
      " 13  exphappy        8208 non-null   float64\n",
      " 14  attr1_1         8208 non-null   float64\n",
      " 15  sinc1_1         8208 non-null   float64\n",
      " 16  intel1_1        8208 non-null   float64\n",
      " 17  fun1_1          8208 non-null   float64\n",
      " 18  amb1_1          8208 non-null   float64\n",
      " 19  shar1_1         8208 non-null   float64\n",
      " 20  attr2_1         8208 non-null   float64\n",
      " 21  sinc2_1         8208 non-null   float64\n",
      " 22  intel2_1        8208 non-null   float64\n",
      " 23  fun2_1          8208 non-null   float64\n",
      " 24  amb2_1          8208 non-null   float64\n",
      " 25  shar2_1         8208 non-null   float64\n",
      " 26  dec             8208 non-null   int64  \n",
      " 27  attr            8208 non-null   float64\n",
      " 28  sinc            8208 non-null   float64\n",
      " 29  intel           8208 non-null   float64\n",
      " 30  fun             8208 non-null   float64\n",
      " 31  amb             8208 non-null   float64\n",
      " 32  shar            8208 non-null   float64\n",
      " 33  like            8208 non-null   float64\n",
      " 34  prob            8208 non-null   float64\n",
      " 35  met             8208 non-null   float64\n",
      " 36  match_es        8208 non-null   float64\n",
      " 37  length          8208 non-null   float64\n",
      " 38  field_cd_m_enc  8208 non-null   float64\n",
      " 39  race_m_enc      8208 non-null   float64\n",
      " 40  goal_m_enc      8208 non-null   float64\n",
      " 41  date_m_enc      8208 non-null   float64\n",
      " 42  go_out_m_enc    8208 non-null   float64\n",
      " 43  career_c_m_enc  8208 non-null   float64\n",
      "dtypes: float64(37), int64(7)\n",
      "memory usage: 3.1 MB\n"
     ]
    }
   ],
   "source": [
    "data.info()"
   ]
  },
  {
   "cell_type": "code",
   "execution_count": null,
   "metadata": {},
   "outputs": [],
   "source": [
    "data = data.drop(['wave'], axis=1)"
   ]
  },
  {
   "cell_type": "code",
   "execution_count": 208,
   "metadata": {},
   "outputs": [],
   "source": [
    "data = data.fillna(data.mean())"
   ]
  },
  {
   "cell_type": "code",
   "execution_count": 213,
   "metadata": {},
   "outputs": [],
   "source": [
    "data_male = data.query('gender == 1').drop_duplicates(subset=['iid', 'pid'])\\\n",
    "                                 .drop(['gender'], axis=1)\\\n",
    "                                 .dropna()\n",
    "data_female = data.query('gender == 0').drop_duplicates(subset=['iid'])\\\n",
    "                                   .drop(['gender', 'match', 'int_corr', 'samerace'], axis=1)\\\n",
    "                                   .dropna()\n",
    "data_female.columns = data_female.columns + '_f'"
   ]
  },
  {
   "cell_type": "code",
   "execution_count": 227,
   "metadata": {},
   "outputs": [
    {
     "data": {
      "text/html": [
       "<div>\n",
       "<style scoped>\n",
       "    .dataframe tbody tr th:only-of-type {\n",
       "        vertical-align: middle;\n",
       "    }\n",
       "\n",
       "    .dataframe tbody tr th {\n",
       "        vertical-align: top;\n",
       "    }\n",
       "\n",
       "    .dataframe thead th {\n",
       "        text-align: right;\n",
       "    }\n",
       "</style>\n",
       "<table border=\"1\" class=\"dataframe\">\n",
       "  <thead>\n",
       "    <tr style=\"text-align: right;\">\n",
       "      <th></th>\n",
       "      <th>iid_f</th>\n",
       "      <th>idg_f</th>\n",
       "      <th>condtn_f</th>\n",
       "      <th>pid_f</th>\n",
       "      <th>age_f</th>\n",
       "      <th>mn_sat_f</th>\n",
       "      <th>tuition_f</th>\n",
       "      <th>imprace_f</th>\n",
       "      <th>imprelig_f</th>\n",
       "      <th>exphappy_f</th>\n",
       "      <th>...</th>\n",
       "      <th>prob_f</th>\n",
       "      <th>met_f</th>\n",
       "      <th>match_es_f</th>\n",
       "      <th>length_f</th>\n",
       "      <th>field_cd_m_enc_f</th>\n",
       "      <th>race_m_enc_f</th>\n",
       "      <th>goal_m_enc_f</th>\n",
       "      <th>date_m_enc_f</th>\n",
       "      <th>go_out_m_enc_f</th>\n",
       "      <th>career_c_m_enc_f</th>\n",
       "    </tr>\n",
       "    <tr>\n",
       "      <th>iid_f</th>\n",
       "      <th></th>\n",
       "      <th></th>\n",
       "      <th></th>\n",
       "      <th></th>\n",
       "      <th></th>\n",
       "      <th></th>\n",
       "      <th></th>\n",
       "      <th></th>\n",
       "      <th></th>\n",
       "      <th></th>\n",
       "      <th></th>\n",
       "      <th></th>\n",
       "      <th></th>\n",
       "      <th></th>\n",
       "      <th></th>\n",
       "      <th></th>\n",
       "      <th></th>\n",
       "      <th></th>\n",
       "      <th></th>\n",
       "      <th></th>\n",
       "      <th></th>\n",
       "    </tr>\n",
       "  </thead>\n",
       "  <tbody>\n",
       "    <tr>\n",
       "      <th>4</th>\n",
       "      <td>4</td>\n",
       "      <td>7</td>\n",
       "      <td>1</td>\n",
       "      <td>11.0</td>\n",
       "      <td>23.0</td>\n",
       "      <td>0.0</td>\n",
       "      <td>-10000.0</td>\n",
       "      <td>1.0</td>\n",
       "      <td>1.0</td>\n",
       "      <td>1.0</td>\n",
       "      <td>...</td>\n",
       "      <td>7.0</td>\n",
       "      <td>2.0</td>\n",
       "      <td>2.000000</td>\n",
       "      <td>3.000000</td>\n",
       "      <td>0.204511</td>\n",
       "      <td>0.166986</td>\n",
       "      <td>0.170975</td>\n",
       "      <td>0.155105</td>\n",
       "      <td>0.194253</td>\n",
       "      <td>0.198519</td>\n",
       "    </tr>\n",
       "    <tr>\n",
       "      <th>5</th>\n",
       "      <td>5</td>\n",
       "      <td>9</td>\n",
       "      <td>1</td>\n",
       "      <td>11.0</td>\n",
       "      <td>21.0</td>\n",
       "      <td>0.0</td>\n",
       "      <td>-10000.0</td>\n",
       "      <td>8.0</td>\n",
       "      <td>1.0</td>\n",
       "      <td>7.0</td>\n",
       "      <td>...</td>\n",
       "      <td>5.0</td>\n",
       "      <td>2.0</td>\n",
       "      <td>3.212421</td>\n",
       "      <td>2.000000</td>\n",
       "      <td>0.204511</td>\n",
       "      <td>0.166986</td>\n",
       "      <td>0.160691</td>\n",
       "      <td>0.178922</td>\n",
       "      <td>0.194253</td>\n",
       "      <td>0.198519</td>\n",
       "    </tr>\n",
       "    <tr>\n",
       "      <th>6</th>\n",
       "      <td>6</td>\n",
       "      <td>11</td>\n",
       "      <td>1</td>\n",
       "      <td>11.0</td>\n",
       "      <td>23.0</td>\n",
       "      <td>0.0</td>\n",
       "      <td>-10000.0</td>\n",
       "      <td>1.0</td>\n",
       "      <td>1.0</td>\n",
       "      <td>4.0</td>\n",
       "      <td>...</td>\n",
       "      <td>6.0</td>\n",
       "      <td>2.0</td>\n",
       "      <td>4.000000</td>\n",
       "      <td>3.000000</td>\n",
       "      <td>0.204511</td>\n",
       "      <td>0.134712</td>\n",
       "      <td>0.170975</td>\n",
       "      <td>0.206391</td>\n",
       "      <td>0.194253</td>\n",
       "      <td>0.198519</td>\n",
       "    </tr>\n",
       "    <tr>\n",
       "      <th>7</th>\n",
       "      <td>7</td>\n",
       "      <td>13</td>\n",
       "      <td>1</td>\n",
       "      <td>11.0</td>\n",
       "      <td>22.0</td>\n",
       "      <td>0.0</td>\n",
       "      <td>-10000.0</td>\n",
       "      <td>2.0</td>\n",
       "      <td>4.0</td>\n",
       "      <td>7.0</td>\n",
       "      <td>...</td>\n",
       "      <td>4.0</td>\n",
       "      <td>2.0</td>\n",
       "      <td>2.000000</td>\n",
       "      <td>1.836515</td>\n",
       "      <td>0.204511</td>\n",
       "      <td>0.134712</td>\n",
       "      <td>0.170975</td>\n",
       "      <td>0.155105</td>\n",
       "      <td>0.194253</td>\n",
       "      <td>0.198519</td>\n",
       "    </tr>\n",
       "    <tr>\n",
       "      <th>8</th>\n",
       "      <td>8</td>\n",
       "      <td>15</td>\n",
       "      <td>1</td>\n",
       "      <td>11.0</td>\n",
       "      <td>25.0</td>\n",
       "      <td>0.0</td>\n",
       "      <td>-10000.0</td>\n",
       "      <td>1.0</td>\n",
       "      <td>1.0</td>\n",
       "      <td>6.0</td>\n",
       "      <td>...</td>\n",
       "      <td>5.0</td>\n",
       "      <td>2.0</td>\n",
       "      <td>3.212421</td>\n",
       "      <td>1.836515</td>\n",
       "      <td>0.167842</td>\n",
       "      <td>0.166986</td>\n",
       "      <td>0.170975</td>\n",
       "      <td>0.155105</td>\n",
       "      <td>0.194253</td>\n",
       "      <td>0.162393</td>\n",
       "    </tr>\n",
       "    <tr>\n",
       "      <th>...</th>\n",
       "      <td>...</td>\n",
       "      <td>...</td>\n",
       "      <td>...</td>\n",
       "      <td>...</td>\n",
       "      <td>...</td>\n",
       "      <td>...</td>\n",
       "      <td>...</td>\n",
       "      <td>...</td>\n",
       "      <td>...</td>\n",
       "      <td>...</td>\n",
       "      <td>...</td>\n",
       "      <td>...</td>\n",
       "      <td>...</td>\n",
       "      <td>...</td>\n",
       "      <td>...</td>\n",
       "      <td>...</td>\n",
       "      <td>...</td>\n",
       "      <td>...</td>\n",
       "      <td>...</td>\n",
       "      <td>...</td>\n",
       "      <td>...</td>\n",
       "    </tr>\n",
       "    <tr>\n",
       "      <th>526</th>\n",
       "      <td>526</td>\n",
       "      <td>35</td>\n",
       "      <td>2</td>\n",
       "      <td>531.0</td>\n",
       "      <td>26.0</td>\n",
       "      <td>1188.0</td>\n",
       "      <td>11311.0</td>\n",
       "      <td>5.0</td>\n",
       "      <td>2.0</td>\n",
       "      <td>6.0</td>\n",
       "      <td>...</td>\n",
       "      <td>1.0</td>\n",
       "      <td>0.0</td>\n",
       "      <td>2.000000</td>\n",
       "      <td>2.000000</td>\n",
       "      <td>0.106838</td>\n",
       "      <td>0.185241</td>\n",
       "      <td>0.170975</td>\n",
       "      <td>0.155105</td>\n",
       "      <td>0.147499</td>\n",
       "      <td>0.159091</td>\n",
       "    </tr>\n",
       "    <tr>\n",
       "      <th>527</th>\n",
       "      <td>527</td>\n",
       "      <td>37</td>\n",
       "      <td>2</td>\n",
       "      <td>531.0</td>\n",
       "      <td>24.0</td>\n",
       "      <td>1290.0</td>\n",
       "      <td>15309.0</td>\n",
       "      <td>5.0</td>\n",
       "      <td>5.0</td>\n",
       "      <td>1.0</td>\n",
       "      <td>...</td>\n",
       "      <td>3.0</td>\n",
       "      <td>0.0</td>\n",
       "      <td>0.000000</td>\n",
       "      <td>1.000000</td>\n",
       "      <td>0.106838</td>\n",
       "      <td>0.197318</td>\n",
       "      <td>0.170975</td>\n",
       "      <td>0.178922</td>\n",
       "      <td>0.147499</td>\n",
       "      <td>0.159091</td>\n",
       "    </tr>\n",
       "    <tr>\n",
       "      <th>528</th>\n",
       "      <td>528</td>\n",
       "      <td>39</td>\n",
       "      <td>2</td>\n",
       "      <td>531.0</td>\n",
       "      <td>29.0</td>\n",
       "      <td>1310.0</td>\n",
       "      <td>33585.0</td>\n",
       "      <td>8.0</td>\n",
       "      <td>7.0</td>\n",
       "      <td>4.0</td>\n",
       "      <td>...</td>\n",
       "      <td>1.0</td>\n",
       "      <td>0.0</td>\n",
       "      <td>2.000000</td>\n",
       "      <td>1.000000</td>\n",
       "      <td>0.106838</td>\n",
       "      <td>0.185241</td>\n",
       "      <td>0.160691</td>\n",
       "      <td>0.141834</td>\n",
       "      <td>0.194253</td>\n",
       "      <td>0.159091</td>\n",
       "    </tr>\n",
       "    <tr>\n",
       "      <th>529</th>\n",
       "      <td>529</td>\n",
       "      <td>41</td>\n",
       "      <td>2</td>\n",
       "      <td>531.0</td>\n",
       "      <td>22.0</td>\n",
       "      <td>1430.0</td>\n",
       "      <td>26908.0</td>\n",
       "      <td>4.0</td>\n",
       "      <td>1.0</td>\n",
       "      <td>5.0</td>\n",
       "      <td>...</td>\n",
       "      <td>7.0</td>\n",
       "      <td>0.0</td>\n",
       "      <td>4.000000</td>\n",
       "      <td>3.000000</td>\n",
       "      <td>0.135417</td>\n",
       "      <td>0.134712</td>\n",
       "      <td>0.160691</td>\n",
       "      <td>0.178922</td>\n",
       "      <td>0.194253</td>\n",
       "      <td>0.153846</td>\n",
       "    </tr>\n",
       "    <tr>\n",
       "      <th>530</th>\n",
       "      <td>530</td>\n",
       "      <td>43</td>\n",
       "      <td>2</td>\n",
       "      <td>531.0</td>\n",
       "      <td>22.0</td>\n",
       "      <td>0.0</td>\n",
       "      <td>-10000.0</td>\n",
       "      <td>1.0</td>\n",
       "      <td>1.0</td>\n",
       "      <td>8.0</td>\n",
       "      <td>...</td>\n",
       "      <td>6.0</td>\n",
       "      <td>0.0</td>\n",
       "      <td>6.000000</td>\n",
       "      <td>1.000000</td>\n",
       "      <td>0.135417</td>\n",
       "      <td>0.134712</td>\n",
       "      <td>0.160691</td>\n",
       "      <td>0.147838</td>\n",
       "      <td>0.147499</td>\n",
       "      <td>0.126649</td>\n",
       "    </tr>\n",
       "  </tbody>\n",
       "</table>\n",
       "<p>264 rows × 40 columns</p>\n",
       "</div>"
      ],
      "text/plain": [
       "       iid_f  idg_f  condtn_f  pid_f  age_f  mn_sat_f  tuition_f  imprace_f  \\\n",
       "iid_f                                                                         \n",
       "4          4      7         1   11.0   23.0       0.0   -10000.0        1.0   \n",
       "5          5      9         1   11.0   21.0       0.0   -10000.0        8.0   \n",
       "6          6     11         1   11.0   23.0       0.0   -10000.0        1.0   \n",
       "7          7     13         1   11.0   22.0       0.0   -10000.0        2.0   \n",
       "8          8     15         1   11.0   25.0       0.0   -10000.0        1.0   \n",
       "...      ...    ...       ...    ...    ...       ...        ...        ...   \n",
       "526      526     35         2  531.0   26.0    1188.0    11311.0        5.0   \n",
       "527      527     37         2  531.0   24.0    1290.0    15309.0        5.0   \n",
       "528      528     39         2  531.0   29.0    1310.0    33585.0        8.0   \n",
       "529      529     41         2  531.0   22.0    1430.0    26908.0        4.0   \n",
       "530      530     43         2  531.0   22.0       0.0   -10000.0        1.0   \n",
       "\n",
       "       imprelig_f  exphappy_f  ...  prob_f  met_f  match_es_f  length_f  \\\n",
       "iid_f                          ...                                        \n",
       "4             1.0         1.0  ...     7.0    2.0    2.000000  3.000000   \n",
       "5             1.0         7.0  ...     5.0    2.0    3.212421  2.000000   \n",
       "6             1.0         4.0  ...     6.0    2.0    4.000000  3.000000   \n",
       "7             4.0         7.0  ...     4.0    2.0    2.000000  1.836515   \n",
       "8             1.0         6.0  ...     5.0    2.0    3.212421  1.836515   \n",
       "...           ...         ...  ...     ...    ...         ...       ...   \n",
       "526           2.0         6.0  ...     1.0    0.0    2.000000  2.000000   \n",
       "527           5.0         1.0  ...     3.0    0.0    0.000000  1.000000   \n",
       "528           7.0         4.0  ...     1.0    0.0    2.000000  1.000000   \n",
       "529           1.0         5.0  ...     7.0    0.0    4.000000  3.000000   \n",
       "530           1.0         8.0  ...     6.0    0.0    6.000000  1.000000   \n",
       "\n",
       "       field_cd_m_enc_f  race_m_enc_f  goal_m_enc_f  date_m_enc_f  \\\n",
       "iid_f                                                               \n",
       "4              0.204511      0.166986      0.170975      0.155105   \n",
       "5              0.204511      0.166986      0.160691      0.178922   \n",
       "6              0.204511      0.134712      0.170975      0.206391   \n",
       "7              0.204511      0.134712      0.170975      0.155105   \n",
       "8              0.167842      0.166986      0.170975      0.155105   \n",
       "...                 ...           ...           ...           ...   \n",
       "526            0.106838      0.185241      0.170975      0.155105   \n",
       "527            0.106838      0.197318      0.170975      0.178922   \n",
       "528            0.106838      0.185241      0.160691      0.141834   \n",
       "529            0.135417      0.134712      0.160691      0.178922   \n",
       "530            0.135417      0.134712      0.160691      0.147838   \n",
       "\n",
       "       go_out_m_enc_f  career_c_m_enc_f  \n",
       "iid_f                                    \n",
       "4            0.194253          0.198519  \n",
       "5            0.194253          0.198519  \n",
       "6            0.194253          0.198519  \n",
       "7            0.194253          0.198519  \n",
       "8            0.194253          0.162393  \n",
       "...               ...               ...  \n",
       "526          0.147499          0.159091  \n",
       "527          0.147499          0.159091  \n",
       "528          0.194253          0.159091  \n",
       "529          0.194253          0.153846  \n",
       "530          0.147499          0.126649  \n",
       "\n",
       "[264 rows x 40 columns]"
      ]
     },
     "execution_count": 227,
     "metadata": {},
     "output_type": "execute_result"
    }
   ],
   "source": [
    "data_female.index = data_female.iid_f\n",
    "data_female"
   ]
  },
  {
   "cell_type": "code",
   "execution_count": 228,
   "metadata": {
    "tags": []
   },
   "outputs": [
    {
     "data": {
      "text/html": [
       "<div>\n",
       "<style scoped>\n",
       "    .dataframe tbody tr th:only-of-type {\n",
       "        vertical-align: middle;\n",
       "    }\n",
       "\n",
       "    .dataframe tbody tr th {\n",
       "        vertical-align: top;\n",
       "    }\n",
       "\n",
       "    .dataframe thead th {\n",
       "        text-align: right;\n",
       "    }\n",
       "</style>\n",
       "<table border=\"1\" class=\"dataframe\">\n",
       "  <thead>\n",
       "    <tr style=\"text-align: right;\">\n",
       "      <th></th>\n",
       "      <th>iid</th>\n",
       "      <th>idg</th>\n",
       "      <th>condtn</th>\n",
       "      <th>pid</th>\n",
       "      <th>match</th>\n",
       "      <th>int_corr</th>\n",
       "      <th>samerace</th>\n",
       "      <th>age</th>\n",
       "      <th>mn_sat</th>\n",
       "      <th>tuition</th>\n",
       "      <th>...</th>\n",
       "      <th>prob</th>\n",
       "      <th>met</th>\n",
       "      <th>match_es</th>\n",
       "      <th>length</th>\n",
       "      <th>field_cd_m_enc</th>\n",
       "      <th>race_m_enc</th>\n",
       "      <th>goal_m_enc</th>\n",
       "      <th>date_m_enc</th>\n",
       "      <th>go_out_m_enc</th>\n",
       "      <th>career_c_m_enc</th>\n",
       "    </tr>\n",
       "    <tr>\n",
       "      <th>iid</th>\n",
       "      <th></th>\n",
       "      <th></th>\n",
       "      <th></th>\n",
       "      <th></th>\n",
       "      <th></th>\n",
       "      <th></th>\n",
       "      <th></th>\n",
       "      <th></th>\n",
       "      <th></th>\n",
       "      <th></th>\n",
       "      <th></th>\n",
       "      <th></th>\n",
       "      <th></th>\n",
       "      <th></th>\n",
       "      <th></th>\n",
       "      <th></th>\n",
       "      <th></th>\n",
       "      <th></th>\n",
       "      <th></th>\n",
       "      <th></th>\n",
       "      <th></th>\n",
       "    </tr>\n",
       "  </thead>\n",
       "  <tbody>\n",
       "    <tr>\n",
       "      <th>11</th>\n",
       "      <td>11</td>\n",
       "      <td>2</td>\n",
       "      <td>1</td>\n",
       "      <td>1.0</td>\n",
       "      <td>0</td>\n",
       "      <td>0.14</td>\n",
       "      <td>0</td>\n",
       "      <td>27.0</td>\n",
       "      <td>0.0</td>\n",
       "      <td>-10000.0</td>\n",
       "      <td>...</td>\n",
       "      <td>4.0</td>\n",
       "      <td>2.0</td>\n",
       "      <td>0.0</td>\n",
       "      <td>2.0</td>\n",
       "      <td>0.174935</td>\n",
       "      <td>0.166986</td>\n",
       "      <td>0.170975</td>\n",
       "      <td>0.155105</td>\n",
       "      <td>0.126667</td>\n",
       "      <td>0.155172</td>\n",
       "    </tr>\n",
       "    <tr>\n",
       "      <th>11</th>\n",
       "      <td>11</td>\n",
       "      <td>2</td>\n",
       "      <td>1</td>\n",
       "      <td>2.0</td>\n",
       "      <td>0</td>\n",
       "      <td>0.29</td>\n",
       "      <td>1</td>\n",
       "      <td>27.0</td>\n",
       "      <td>0.0</td>\n",
       "      <td>-10000.0</td>\n",
       "      <td>...</td>\n",
       "      <td>2.0</td>\n",
       "      <td>2.0</td>\n",
       "      <td>0.0</td>\n",
       "      <td>2.0</td>\n",
       "      <td>0.174935</td>\n",
       "      <td>0.166986</td>\n",
       "      <td>0.170975</td>\n",
       "      <td>0.155105</td>\n",
       "      <td>0.126667</td>\n",
       "      <td>0.155172</td>\n",
       "    </tr>\n",
       "    <tr>\n",
       "      <th>11</th>\n",
       "      <td>11</td>\n",
       "      <td>2</td>\n",
       "      <td>1</td>\n",
       "      <td>3.0</td>\n",
       "      <td>0</td>\n",
       "      <td>-0.24</td>\n",
       "      <td>1</td>\n",
       "      <td>27.0</td>\n",
       "      <td>0.0</td>\n",
       "      <td>-10000.0</td>\n",
       "      <td>...</td>\n",
       "      <td>2.0</td>\n",
       "      <td>1.0</td>\n",
       "      <td>0.0</td>\n",
       "      <td>2.0</td>\n",
       "      <td>0.174935</td>\n",
       "      <td>0.166986</td>\n",
       "      <td>0.170975</td>\n",
       "      <td>0.155105</td>\n",
       "      <td>0.126667</td>\n",
       "      <td>0.155172</td>\n",
       "    </tr>\n",
       "    <tr>\n",
       "      <th>11</th>\n",
       "      <td>11</td>\n",
       "      <td>2</td>\n",
       "      <td>1</td>\n",
       "      <td>4.0</td>\n",
       "      <td>0</td>\n",
       "      <td>-0.18</td>\n",
       "      <td>1</td>\n",
       "      <td>27.0</td>\n",
       "      <td>0.0</td>\n",
       "      <td>-10000.0</td>\n",
       "      <td>...</td>\n",
       "      <td>3.0</td>\n",
       "      <td>2.0</td>\n",
       "      <td>0.0</td>\n",
       "      <td>2.0</td>\n",
       "      <td>0.174935</td>\n",
       "      <td>0.166986</td>\n",
       "      <td>0.170975</td>\n",
       "      <td>0.155105</td>\n",
       "      <td>0.126667</td>\n",
       "      <td>0.155172</td>\n",
       "    </tr>\n",
       "    <tr>\n",
       "      <th>11</th>\n",
       "      <td>11</td>\n",
       "      <td>2</td>\n",
       "      <td>1</td>\n",
       "      <td>5.0</td>\n",
       "      <td>0</td>\n",
       "      <td>-0.43</td>\n",
       "      <td>1</td>\n",
       "      <td>27.0</td>\n",
       "      <td>0.0</td>\n",
       "      <td>-10000.0</td>\n",
       "      <td>...</td>\n",
       "      <td>5.0</td>\n",
       "      <td>2.0</td>\n",
       "      <td>0.0</td>\n",
       "      <td>2.0</td>\n",
       "      <td>0.174935</td>\n",
       "      <td>0.166986</td>\n",
       "      <td>0.170975</td>\n",
       "      <td>0.155105</td>\n",
       "      <td>0.126667</td>\n",
       "      <td>0.155172</td>\n",
       "    </tr>\n",
       "    <tr>\n",
       "      <th>...</th>\n",
       "      <td>...</td>\n",
       "      <td>...</td>\n",
       "      <td>...</td>\n",
       "      <td>...</td>\n",
       "      <td>...</td>\n",
       "      <td>...</td>\n",
       "      <td>...</td>\n",
       "      <td>...</td>\n",
       "      <td>...</td>\n",
       "      <td>...</td>\n",
       "      <td>...</td>\n",
       "      <td>...</td>\n",
       "      <td>...</td>\n",
       "      <td>...</td>\n",
       "      <td>...</td>\n",
       "      <td>...</td>\n",
       "      <td>...</td>\n",
       "      <td>...</td>\n",
       "      <td>...</td>\n",
       "      <td>...</td>\n",
       "      <td>...</td>\n",
       "    </tr>\n",
       "    <tr>\n",
       "      <th>552</th>\n",
       "      <td>552</td>\n",
       "      <td>44</td>\n",
       "      <td>2</td>\n",
       "      <td>526.0</td>\n",
       "      <td>0</td>\n",
       "      <td>0.64</td>\n",
       "      <td>0</td>\n",
       "      <td>25.0</td>\n",
       "      <td>0.0</td>\n",
       "      <td>-10000.0</td>\n",
       "      <td>...</td>\n",
       "      <td>5.0</td>\n",
       "      <td>0.0</td>\n",
       "      <td>3.0</td>\n",
       "      <td>1.0</td>\n",
       "      <td>0.153846</td>\n",
       "      <td>0.166986</td>\n",
       "      <td>0.170975</td>\n",
       "      <td>0.211039</td>\n",
       "      <td>0.194253</td>\n",
       "      <td>0.168831</td>\n",
       "    </tr>\n",
       "    <tr>\n",
       "      <th>552</th>\n",
       "      <td>552</td>\n",
       "      <td>44</td>\n",
       "      <td>2</td>\n",
       "      <td>527.0</td>\n",
       "      <td>0</td>\n",
       "      <td>0.71</td>\n",
       "      <td>0</td>\n",
       "      <td>25.0</td>\n",
       "      <td>0.0</td>\n",
       "      <td>-10000.0</td>\n",
       "      <td>...</td>\n",
       "      <td>4.0</td>\n",
       "      <td>0.0</td>\n",
       "      <td>3.0</td>\n",
       "      <td>1.0</td>\n",
       "      <td>0.153846</td>\n",
       "      <td>0.166986</td>\n",
       "      <td>0.170975</td>\n",
       "      <td>0.211039</td>\n",
       "      <td>0.194253</td>\n",
       "      <td>0.168831</td>\n",
       "    </tr>\n",
       "    <tr>\n",
       "      <th>552</th>\n",
       "      <td>552</td>\n",
       "      <td>44</td>\n",
       "      <td>2</td>\n",
       "      <td>528.0</td>\n",
       "      <td>0</td>\n",
       "      <td>-0.46</td>\n",
       "      <td>0</td>\n",
       "      <td>25.0</td>\n",
       "      <td>0.0</td>\n",
       "      <td>-10000.0</td>\n",
       "      <td>...</td>\n",
       "      <td>5.0</td>\n",
       "      <td>0.0</td>\n",
       "      <td>3.0</td>\n",
       "      <td>1.0</td>\n",
       "      <td>0.153846</td>\n",
       "      <td>0.166986</td>\n",
       "      <td>0.170975</td>\n",
       "      <td>0.211039</td>\n",
       "      <td>0.194253</td>\n",
       "      <td>0.168831</td>\n",
       "    </tr>\n",
       "    <tr>\n",
       "      <th>552</th>\n",
       "      <td>552</td>\n",
       "      <td>44</td>\n",
       "      <td>2</td>\n",
       "      <td>529.0</td>\n",
       "      <td>0</td>\n",
       "      <td>0.62</td>\n",
       "      <td>0</td>\n",
       "      <td>25.0</td>\n",
       "      <td>0.0</td>\n",
       "      <td>-10000.0</td>\n",
       "      <td>...</td>\n",
       "      <td>5.0</td>\n",
       "      <td>0.0</td>\n",
       "      <td>3.0</td>\n",
       "      <td>1.0</td>\n",
       "      <td>0.153846</td>\n",
       "      <td>0.166986</td>\n",
       "      <td>0.170975</td>\n",
       "      <td>0.211039</td>\n",
       "      <td>0.194253</td>\n",
       "      <td>0.168831</td>\n",
       "    </tr>\n",
       "    <tr>\n",
       "      <th>552</th>\n",
       "      <td>552</td>\n",
       "      <td>44</td>\n",
       "      <td>2</td>\n",
       "      <td>530.0</td>\n",
       "      <td>0</td>\n",
       "      <td>0.01</td>\n",
       "      <td>0</td>\n",
       "      <td>25.0</td>\n",
       "      <td>0.0</td>\n",
       "      <td>-10000.0</td>\n",
       "      <td>...</td>\n",
       "      <td>5.0</td>\n",
       "      <td>0.0</td>\n",
       "      <td>3.0</td>\n",
       "      <td>1.0</td>\n",
       "      <td>0.153846</td>\n",
       "      <td>0.166986</td>\n",
       "      <td>0.170975</td>\n",
       "      <td>0.211039</td>\n",
       "      <td>0.194253</td>\n",
       "      <td>0.168831</td>\n",
       "    </tr>\n",
       "  </tbody>\n",
       "</table>\n",
       "<p>4145 rows × 43 columns</p>\n",
       "</div>"
      ],
      "text/plain": [
       "     iid  idg  condtn    pid  match  int_corr  samerace   age  mn_sat  \\\n",
       "iid                                                                     \n",
       "11    11    2       1    1.0      0      0.14         0  27.0     0.0   \n",
       "11    11    2       1    2.0      0      0.29         1  27.0     0.0   \n",
       "11    11    2       1    3.0      0     -0.24         1  27.0     0.0   \n",
       "11    11    2       1    4.0      0     -0.18         1  27.0     0.0   \n",
       "11    11    2       1    5.0      0     -0.43         1  27.0     0.0   \n",
       "..   ...  ...     ...    ...    ...       ...       ...   ...     ...   \n",
       "552  552   44       2  526.0      0      0.64         0  25.0     0.0   \n",
       "552  552   44       2  527.0      0      0.71         0  25.0     0.0   \n",
       "552  552   44       2  528.0      0     -0.46         0  25.0     0.0   \n",
       "552  552   44       2  529.0      0      0.62         0  25.0     0.0   \n",
       "552  552   44       2  530.0      0      0.01         0  25.0     0.0   \n",
       "\n",
       "     tuition  ...  prob  met  match_es  length  field_cd_m_enc  race_m_enc  \\\n",
       "iid           ...                                                            \n",
       "11  -10000.0  ...   4.0  2.0       0.0     2.0        0.174935    0.166986   \n",
       "11  -10000.0  ...   2.0  2.0       0.0     2.0        0.174935    0.166986   \n",
       "11  -10000.0  ...   2.0  1.0       0.0     2.0        0.174935    0.166986   \n",
       "11  -10000.0  ...   3.0  2.0       0.0     2.0        0.174935    0.166986   \n",
       "11  -10000.0  ...   5.0  2.0       0.0     2.0        0.174935    0.166986   \n",
       "..       ...  ...   ...  ...       ...     ...             ...         ...   \n",
       "552 -10000.0  ...   5.0  0.0       3.0     1.0        0.153846    0.166986   \n",
       "552 -10000.0  ...   4.0  0.0       3.0     1.0        0.153846    0.166986   \n",
       "552 -10000.0  ...   5.0  0.0       3.0     1.0        0.153846    0.166986   \n",
       "552 -10000.0  ...   5.0  0.0       3.0     1.0        0.153846    0.166986   \n",
       "552 -10000.0  ...   5.0  0.0       3.0     1.0        0.153846    0.166986   \n",
       "\n",
       "     goal_m_enc  date_m_enc  go_out_m_enc  career_c_m_enc  \n",
       "iid                                                        \n",
       "11     0.170975    0.155105      0.126667        0.155172  \n",
       "11     0.170975    0.155105      0.126667        0.155172  \n",
       "11     0.170975    0.155105      0.126667        0.155172  \n",
       "11     0.170975    0.155105      0.126667        0.155172  \n",
       "11     0.170975    0.155105      0.126667        0.155172  \n",
       "..          ...         ...           ...             ...  \n",
       "552    0.170975    0.211039      0.194253        0.168831  \n",
       "552    0.170975    0.211039      0.194253        0.168831  \n",
       "552    0.170975    0.211039      0.194253        0.168831  \n",
       "552    0.170975    0.211039      0.194253        0.168831  \n",
       "552    0.170975    0.211039      0.194253        0.168831  \n",
       "\n",
       "[4145 rows x 43 columns]"
      ]
     },
     "execution_count": 228,
     "metadata": {},
     "output_type": "execute_result"
    }
   ],
   "source": [
    "data_male.index = data_male.iid\n",
    "data_male"
   ]
  },
  {
   "cell_type": "code",
   "execution_count": 232,
   "metadata": {
    "tags": []
   },
   "outputs": [
    {
     "name": "stderr",
     "output_type": "stream",
     "text": [
      "/home/vga/miniconda3/envs/sphere-py37/lib/python3.7/site-packages/pandas/core/reshape/merge.py:1208: UserWarning: You are merging on int and float columns where the float values are not equal to their int representation\n",
      "  UserWarning,\n"
     ]
    }
   ],
   "source": [
    "join_data = data_male.join(data_female, on=\"pid\")"
   ]
  },
  {
   "cell_type": "code",
   "execution_count": 238,
   "metadata": {},
   "outputs": [
    {
     "data": {
      "text/html": [
       "<div>\n",
       "<style scoped>\n",
       "    .dataframe tbody tr th:only-of-type {\n",
       "        vertical-align: middle;\n",
       "    }\n",
       "\n",
       "    .dataframe tbody tr th {\n",
       "        vertical-align: top;\n",
       "    }\n",
       "\n",
       "    .dataframe thead th {\n",
       "        text-align: right;\n",
       "    }\n",
       "</style>\n",
       "<table border=\"1\" class=\"dataframe\">\n",
       "  <thead>\n",
       "    <tr style=\"text-align: right;\">\n",
       "      <th></th>\n",
       "      <th>iid</th>\n",
       "      <th>idg</th>\n",
       "      <th>condtn</th>\n",
       "      <th>pid</th>\n",
       "      <th>match</th>\n",
       "      <th>int_corr</th>\n",
       "      <th>samerace</th>\n",
       "      <th>age</th>\n",
       "      <th>mn_sat</th>\n",
       "      <th>tuition</th>\n",
       "      <th>...</th>\n",
       "      <th>prob_f</th>\n",
       "      <th>met_f</th>\n",
       "      <th>match_es_f</th>\n",
       "      <th>length_f</th>\n",
       "      <th>field_cd_m_enc_f</th>\n",
       "      <th>race_m_enc_f</th>\n",
       "      <th>goal_m_enc_f</th>\n",
       "      <th>date_m_enc_f</th>\n",
       "      <th>go_out_m_enc_f</th>\n",
       "      <th>career_c_m_enc_f</th>\n",
       "    </tr>\n",
       "    <tr>\n",
       "      <th>iid</th>\n",
       "      <th></th>\n",
       "      <th></th>\n",
       "      <th></th>\n",
       "      <th></th>\n",
       "      <th></th>\n",
       "      <th></th>\n",
       "      <th></th>\n",
       "      <th></th>\n",
       "      <th></th>\n",
       "      <th></th>\n",
       "      <th></th>\n",
       "      <th></th>\n",
       "      <th></th>\n",
       "      <th></th>\n",
       "      <th></th>\n",
       "      <th></th>\n",
       "      <th></th>\n",
       "      <th></th>\n",
       "      <th></th>\n",
       "      <th></th>\n",
       "      <th></th>\n",
       "    </tr>\n",
       "  </thead>\n",
       "  <tbody>\n",
       "    <tr>\n",
       "      <th>11</th>\n",
       "      <td>11</td>\n",
       "      <td>2</td>\n",
       "      <td>1</td>\n",
       "      <td>4.0</td>\n",
       "      <td>0</td>\n",
       "      <td>-0.18</td>\n",
       "      <td>1</td>\n",
       "      <td>27.0</td>\n",
       "      <td>0.0</td>\n",
       "      <td>-10000.0</td>\n",
       "      <td>...</td>\n",
       "      <td>7.0</td>\n",
       "      <td>2.0</td>\n",
       "      <td>2.000000</td>\n",
       "      <td>3.000000</td>\n",
       "      <td>0.204511</td>\n",
       "      <td>0.166986</td>\n",
       "      <td>0.170975</td>\n",
       "      <td>0.155105</td>\n",
       "      <td>0.194253</td>\n",
       "      <td>0.198519</td>\n",
       "    </tr>\n",
       "    <tr>\n",
       "      <th>11</th>\n",
       "      <td>11</td>\n",
       "      <td>2</td>\n",
       "      <td>1</td>\n",
       "      <td>5.0</td>\n",
       "      <td>0</td>\n",
       "      <td>-0.43</td>\n",
       "      <td>1</td>\n",
       "      <td>27.0</td>\n",
       "      <td>0.0</td>\n",
       "      <td>-10000.0</td>\n",
       "      <td>...</td>\n",
       "      <td>5.0</td>\n",
       "      <td>2.0</td>\n",
       "      <td>3.212421</td>\n",
       "      <td>2.000000</td>\n",
       "      <td>0.204511</td>\n",
       "      <td>0.166986</td>\n",
       "      <td>0.160691</td>\n",
       "      <td>0.178922</td>\n",
       "      <td>0.194253</td>\n",
       "      <td>0.198519</td>\n",
       "    </tr>\n",
       "    <tr>\n",
       "      <th>11</th>\n",
       "      <td>11</td>\n",
       "      <td>2</td>\n",
       "      <td>1</td>\n",
       "      <td>6.0</td>\n",
       "      <td>0</td>\n",
       "      <td>0.33</td>\n",
       "      <td>0</td>\n",
       "      <td>27.0</td>\n",
       "      <td>0.0</td>\n",
       "      <td>-10000.0</td>\n",
       "      <td>...</td>\n",
       "      <td>6.0</td>\n",
       "      <td>2.0</td>\n",
       "      <td>4.000000</td>\n",
       "      <td>3.000000</td>\n",
       "      <td>0.204511</td>\n",
       "      <td>0.134712</td>\n",
       "      <td>0.170975</td>\n",
       "      <td>0.206391</td>\n",
       "      <td>0.194253</td>\n",
       "      <td>0.198519</td>\n",
       "    </tr>\n",
       "    <tr>\n",
       "      <th>11</th>\n",
       "      <td>11</td>\n",
       "      <td>2</td>\n",
       "      <td>1</td>\n",
       "      <td>7.0</td>\n",
       "      <td>0</td>\n",
       "      <td>0.19</td>\n",
       "      <td>0</td>\n",
       "      <td>27.0</td>\n",
       "      <td>0.0</td>\n",
       "      <td>-10000.0</td>\n",
       "      <td>...</td>\n",
       "      <td>4.0</td>\n",
       "      <td>2.0</td>\n",
       "      <td>2.000000</td>\n",
       "      <td>1.836515</td>\n",
       "      <td>0.204511</td>\n",
       "      <td>0.134712</td>\n",
       "      <td>0.170975</td>\n",
       "      <td>0.155105</td>\n",
       "      <td>0.194253</td>\n",
       "      <td>0.198519</td>\n",
       "    </tr>\n",
       "    <tr>\n",
       "      <th>11</th>\n",
       "      <td>11</td>\n",
       "      <td>2</td>\n",
       "      <td>1</td>\n",
       "      <td>8.0</td>\n",
       "      <td>0</td>\n",
       "      <td>-0.03</td>\n",
       "      <td>1</td>\n",
       "      <td>27.0</td>\n",
       "      <td>0.0</td>\n",
       "      <td>-10000.0</td>\n",
       "      <td>...</td>\n",
       "      <td>5.0</td>\n",
       "      <td>2.0</td>\n",
       "      <td>3.212421</td>\n",
       "      <td>1.836515</td>\n",
       "      <td>0.167842</td>\n",
       "      <td>0.166986</td>\n",
       "      <td>0.170975</td>\n",
       "      <td>0.155105</td>\n",
       "      <td>0.194253</td>\n",
       "      <td>0.162393</td>\n",
       "    </tr>\n",
       "    <tr>\n",
       "      <th>...</th>\n",
       "      <td>...</td>\n",
       "      <td>...</td>\n",
       "      <td>...</td>\n",
       "      <td>...</td>\n",
       "      <td>...</td>\n",
       "      <td>...</td>\n",
       "      <td>...</td>\n",
       "      <td>...</td>\n",
       "      <td>...</td>\n",
       "      <td>...</td>\n",
       "      <td>...</td>\n",
       "      <td>...</td>\n",
       "      <td>...</td>\n",
       "      <td>...</td>\n",
       "      <td>...</td>\n",
       "      <td>...</td>\n",
       "      <td>...</td>\n",
       "      <td>...</td>\n",
       "      <td>...</td>\n",
       "      <td>...</td>\n",
       "      <td>...</td>\n",
       "    </tr>\n",
       "    <tr>\n",
       "      <th>552</th>\n",
       "      <td>552</td>\n",
       "      <td>44</td>\n",
       "      <td>2</td>\n",
       "      <td>526.0</td>\n",
       "      <td>0</td>\n",
       "      <td>0.64</td>\n",
       "      <td>0</td>\n",
       "      <td>25.0</td>\n",
       "      <td>0.0</td>\n",
       "      <td>-10000.0</td>\n",
       "      <td>...</td>\n",
       "      <td>1.0</td>\n",
       "      <td>0.0</td>\n",
       "      <td>2.000000</td>\n",
       "      <td>2.000000</td>\n",
       "      <td>0.106838</td>\n",
       "      <td>0.185241</td>\n",
       "      <td>0.170975</td>\n",
       "      <td>0.155105</td>\n",
       "      <td>0.147499</td>\n",
       "      <td>0.159091</td>\n",
       "    </tr>\n",
       "    <tr>\n",
       "      <th>552</th>\n",
       "      <td>552</td>\n",
       "      <td>44</td>\n",
       "      <td>2</td>\n",
       "      <td>527.0</td>\n",
       "      <td>0</td>\n",
       "      <td>0.71</td>\n",
       "      <td>0</td>\n",
       "      <td>25.0</td>\n",
       "      <td>0.0</td>\n",
       "      <td>-10000.0</td>\n",
       "      <td>...</td>\n",
       "      <td>3.0</td>\n",
       "      <td>0.0</td>\n",
       "      <td>0.000000</td>\n",
       "      <td>1.000000</td>\n",
       "      <td>0.106838</td>\n",
       "      <td>0.197318</td>\n",
       "      <td>0.170975</td>\n",
       "      <td>0.178922</td>\n",
       "      <td>0.147499</td>\n",
       "      <td>0.159091</td>\n",
       "    </tr>\n",
       "    <tr>\n",
       "      <th>552</th>\n",
       "      <td>552</td>\n",
       "      <td>44</td>\n",
       "      <td>2</td>\n",
       "      <td>528.0</td>\n",
       "      <td>0</td>\n",
       "      <td>-0.46</td>\n",
       "      <td>0</td>\n",
       "      <td>25.0</td>\n",
       "      <td>0.0</td>\n",
       "      <td>-10000.0</td>\n",
       "      <td>...</td>\n",
       "      <td>1.0</td>\n",
       "      <td>0.0</td>\n",
       "      <td>2.000000</td>\n",
       "      <td>1.000000</td>\n",
       "      <td>0.106838</td>\n",
       "      <td>0.185241</td>\n",
       "      <td>0.160691</td>\n",
       "      <td>0.141834</td>\n",
       "      <td>0.194253</td>\n",
       "      <td>0.159091</td>\n",
       "    </tr>\n",
       "    <tr>\n",
       "      <th>552</th>\n",
       "      <td>552</td>\n",
       "      <td>44</td>\n",
       "      <td>2</td>\n",
       "      <td>529.0</td>\n",
       "      <td>0</td>\n",
       "      <td>0.62</td>\n",
       "      <td>0</td>\n",
       "      <td>25.0</td>\n",
       "      <td>0.0</td>\n",
       "      <td>-10000.0</td>\n",
       "      <td>...</td>\n",
       "      <td>7.0</td>\n",
       "      <td>0.0</td>\n",
       "      <td>4.000000</td>\n",
       "      <td>3.000000</td>\n",
       "      <td>0.135417</td>\n",
       "      <td>0.134712</td>\n",
       "      <td>0.160691</td>\n",
       "      <td>0.178922</td>\n",
       "      <td>0.194253</td>\n",
       "      <td>0.153846</td>\n",
       "    </tr>\n",
       "    <tr>\n",
       "      <th>552</th>\n",
       "      <td>552</td>\n",
       "      <td>44</td>\n",
       "      <td>2</td>\n",
       "      <td>530.0</td>\n",
       "      <td>0</td>\n",
       "      <td>0.01</td>\n",
       "      <td>0</td>\n",
       "      <td>25.0</td>\n",
       "      <td>0.0</td>\n",
       "      <td>-10000.0</td>\n",
       "      <td>...</td>\n",
       "      <td>6.0</td>\n",
       "      <td>0.0</td>\n",
       "      <td>6.000000</td>\n",
       "      <td>1.000000</td>\n",
       "      <td>0.135417</td>\n",
       "      <td>0.134712</td>\n",
       "      <td>0.160691</td>\n",
       "      <td>0.147838</td>\n",
       "      <td>0.147499</td>\n",
       "      <td>0.126649</td>\n",
       "    </tr>\n",
       "  </tbody>\n",
       "</table>\n",
       "<p>4017 rows × 83 columns</p>\n",
       "</div>"
      ],
      "text/plain": [
       "     iid  idg  condtn    pid  match  int_corr  samerace   age  mn_sat  \\\n",
       "iid                                                                     \n",
       "11    11    2       1    4.0      0     -0.18         1  27.0     0.0   \n",
       "11    11    2       1    5.0      0     -0.43         1  27.0     0.0   \n",
       "11    11    2       1    6.0      0      0.33         0  27.0     0.0   \n",
       "11    11    2       1    7.0      0      0.19         0  27.0     0.0   \n",
       "11    11    2       1    8.0      0     -0.03         1  27.0     0.0   \n",
       "..   ...  ...     ...    ...    ...       ...       ...   ...     ...   \n",
       "552  552   44       2  526.0      0      0.64         0  25.0     0.0   \n",
       "552  552   44       2  527.0      0      0.71         0  25.0     0.0   \n",
       "552  552   44       2  528.0      0     -0.46         0  25.0     0.0   \n",
       "552  552   44       2  529.0      0      0.62         0  25.0     0.0   \n",
       "552  552   44       2  530.0      0      0.01         0  25.0     0.0   \n",
       "\n",
       "     tuition  ...  prob_f  met_f  match_es_f  length_f  field_cd_m_enc_f  \\\n",
       "iid           ...                                                          \n",
       "11  -10000.0  ...     7.0    2.0    2.000000  3.000000          0.204511   \n",
       "11  -10000.0  ...     5.0    2.0    3.212421  2.000000          0.204511   \n",
       "11  -10000.0  ...     6.0    2.0    4.000000  3.000000          0.204511   \n",
       "11  -10000.0  ...     4.0    2.0    2.000000  1.836515          0.204511   \n",
       "11  -10000.0  ...     5.0    2.0    3.212421  1.836515          0.167842   \n",
       "..       ...  ...     ...    ...         ...       ...               ...   \n",
       "552 -10000.0  ...     1.0    0.0    2.000000  2.000000          0.106838   \n",
       "552 -10000.0  ...     3.0    0.0    0.000000  1.000000          0.106838   \n",
       "552 -10000.0  ...     1.0    0.0    2.000000  1.000000          0.106838   \n",
       "552 -10000.0  ...     7.0    0.0    4.000000  3.000000          0.135417   \n",
       "552 -10000.0  ...     6.0    0.0    6.000000  1.000000          0.135417   \n",
       "\n",
       "     race_m_enc_f  goal_m_enc_f  date_m_enc_f  go_out_m_enc_f  \\\n",
       "iid                                                             \n",
       "11       0.166986      0.170975      0.155105        0.194253   \n",
       "11       0.166986      0.160691      0.178922        0.194253   \n",
       "11       0.134712      0.170975      0.206391        0.194253   \n",
       "11       0.134712      0.170975      0.155105        0.194253   \n",
       "11       0.166986      0.170975      0.155105        0.194253   \n",
       "..            ...           ...           ...             ...   \n",
       "552      0.185241      0.170975      0.155105        0.147499   \n",
       "552      0.197318      0.170975      0.178922        0.147499   \n",
       "552      0.185241      0.160691      0.141834        0.194253   \n",
       "552      0.134712      0.160691      0.178922        0.194253   \n",
       "552      0.134712      0.160691      0.147838        0.147499   \n",
       "\n",
       "     career_c_m_enc_f  \n",
       "iid                    \n",
       "11           0.198519  \n",
       "11           0.198519  \n",
       "11           0.198519  \n",
       "11           0.198519  \n",
       "11           0.162393  \n",
       "..                ...  \n",
       "552          0.159091  \n",
       "552          0.159091  \n",
       "552          0.159091  \n",
       "552          0.153846  \n",
       "552          0.126649  \n",
       "\n",
       "[4017 rows x 83 columns]"
      ]
     },
     "execution_count": 238,
     "metadata": {},
     "output_type": "execute_result"
    }
   ],
   "source": [
    "join_data = join_data.dropna()\n",
    "join_data"
   ]
  },
  {
   "cell_type": "markdown",
   "metadata": {},
   "source": [
    "Разбейте датасет на трейн и валидацию. Подберите на валидации оптимальный критерий  информативности. \n",
    "Постройте графики зависимости точности на валидации от глубины дерева, от минимального числа объектов для сплита. \n",
    "Какой максимальной точности удалось достигнуть?"
   ]
  },
  {
   "cell_type": "code",
   "execution_count": 330,
   "metadata": {},
   "outputs": [],
   "source": [
    "X = join_data.drop([\"match\"], axis=1)\n",
    "y = join_data.match"
   ]
  },
  {
   "cell_type": "code",
   "execution_count": 337,
   "metadata": {},
   "outputs": [
    {
     "data": {
      "text/plain": [
       "(array([0, 1]), array([3353,  664]))"
      ]
     },
     "execution_count": 337,
     "metadata": {},
     "output_type": "execute_result"
    }
   ],
   "source": [
    "np.unique(y, return_counts=True)"
   ]
  },
  {
   "cell_type": "code",
   "execution_count": 528,
   "metadata": {},
   "outputs": [],
   "source": [
    "X_train, X_test, y_train, y_test = train_test_split(X, y, test_size=0.33, random_state=42)"
   ]
  },
  {
   "cell_type": "code",
   "execution_count": 529,
   "metadata": {},
   "outputs": [],
   "source": [
    "X_train = np.array(X_train)\n",
    "X_test = np.array(X_test)\n",
    "y_train = np.array(y_train)\n",
    "y_test = np.array(y_test)"
   ]
  },
  {
   "cell_type": "code",
   "execution_count": 463,
   "metadata": {
    "tags": []
   },
   "outputs": [
    {
     "name": "stdout",
     "output_type": "stream",
     "text": [
      "splits: 1 accuracy: 0.8295625942684767\n",
      "splits: 2 accuracy: 0.8295625942684767\n",
      "splits: 3 accuracy: 0.8265460030165912\n",
      "splits: 4 accuracy: 0.8265460030165912\n",
      "splits: 5 accuracy: 0.8265460030165912\n",
      "splits: 6 accuracy: 0.8265460030165912\n",
      "splits: 7 accuracy: 0.8265460030165912\n",
      "splits: 8 accuracy: 0.8265460030165912\n",
      "splits: 9 accuracy: 0.8265460030165912\n",
      "splits: 10 accuracy: 0.830316742081448\n",
      "splits: 11 accuracy: 0.830316742081448\n"
     ]
    }
   ],
   "source": [
    "min_splits = [i for i in range(1, 12)]\n",
    "min_splits_scores = []\n",
    "for s in min_splits:\n",
    "    dates_clf = MyDecisionTreeClassifier(min_samples_split=s)\n",
    "    dates_clf.fit(X_train, y_train)\n",
    "    prediction = dates_clf.predict(X_test)\n",
    "    acc = accuracy_score(prediction, y_test)\n",
    "    min_splits_scores.append(acc)\n",
    "    print(f\"splits: {s} accuracy: {acc}\")"
   ]
  },
  {
   "cell_type": "code",
   "execution_count": 464,
   "metadata": {},
   "outputs": [
    {
     "data": {
      "text/plain": [
       "[<matplotlib.lines.Line2D at 0x7f8f7660f610>]"
      ]
     },
     "execution_count": 464,
     "metadata": {},
     "output_type": "execute_result"
    },
    {
     "data": {
      "image/png": "[encoded data removed]",
      "text/plain": [
       "<Figure size 432x288 with 1 Axes>"
      ]
     },
     "metadata": {
      "needs_background": "light"
     },
     "output_type": "display_data"
    }
   ],
   "source": [
    "plt.plot(min_splits, min_splits_scores)"
   ]
  },
  {
   "cell_type": "code",
   "execution_count": 465,
   "metadata": {},
   "outputs": [
    {
     "data": {
      "text/plain": [
       "array([0])"
      ]
     },
     "execution_count": 465,
     "metadata": {},
     "output_type": "execute_result"
    }
   ],
   "source": [
    "np.unique(prediction)"
   ]
  },
  {
   "cell_type": "markdown",
   "metadata": {},
   "source": [
    "На последних итерациях классификаторы стали вырожденными, поэтому за оптимальное min_splits возьмем 1"
   ]
  },
  {
   "cell_type": "code",
   "execution_count": 466,
   "metadata": {},
   "outputs": [],
   "source": [
    "best_min_samples_split = 2"
   ]
  },
  {
   "cell_type": "code",
   "execution_count": 472,
   "metadata": {},
   "outputs": [
    {
     "name": "stdout",
     "output_type": "stream",
     "text": [
      "max_depth: 1 accuracy: 0.830316742081448\n",
      "max_depth: 2 accuracy: 0.830316742081448\n",
      "max_depth: 5 accuracy: 0.8295625942684767\n",
      "max_depth: 10 accuracy: 0.8288084464555053\n",
      "max_depth: 20 accuracy: 0.8288084464555053\n",
      "max_depth: 50 accuracy: 0.8288084464555053\n",
      "max_depth: 100 accuracy: 0.8288084464555053\n",
      "max_depth: 200 accuracy: 0.8288084464555053\n"
     ]
    }
   ],
   "source": [
    "max_depths = [1, 2, 5, 10, 20, 50, 100, 200]\n",
    "max_depths_scores = []\n",
    "for d in max_depths:\n",
    "    dates_clf = MyDecisionTreeClassifier(max_depth=d, min_samples_split=1)\n",
    "    dates_clf.fit(X_train, y_train)\n",
    "    prediction = dates_clf.predict(X_test)\n",
    "    acc = accuracy_score(prediction, y_test)\n",
    "    max_depths_scores.append(acc)\n",
    "    print(f\"max_depth: {d} accuracy: {acc}\")"
   ]
  },
  {
   "cell_type": "code",
   "execution_count": 474,
   "metadata": {},
   "outputs": [
    {
     "data": {
      "text/plain": [
       "[<matplotlib.lines.Line2D at 0x7f8f75f9f650>]"
      ]
     },
     "execution_count": 474,
     "metadata": {},
     "output_type": "execute_result"
    },
    {
     "data": {
      "image/png": "[encoded data removed]",
      "text/plain": [
       "<Figure size 432x288 with 1 Axes>"
      ]
     },
     "metadata": {
      "needs_background": "light"
     },
     "output_type": "display_data"
    }
   ],
   "source": [
    "plt.plot(max_depths, max_depths_scores)"
   ]
  },
  {
   "cell_type": "markdown",
   "metadata": {},
   "source": [
    "На первых итерациях классификаторы стали вырожденными, поэтому за оптимальное max_depth возьмем 10"
   ]
  },
  {
   "cell_type": "code",
   "execution_count": 475,
   "metadata": {},
   "outputs": [],
   "source": [
    "best_max_depth = 10"
   ]
  },
  {
   "cell_type": "code",
   "execution_count": 476,
   "metadata": {},
   "outputs": [
    {
     "name": "stdout",
     "output_type": "stream",
     "text": [
      "criterion: gini accuracy: 0.8295625942684767\n",
      "criterion: class_error accuracy: 0.8318250377073907\n",
      "criterion: entropy accuracy: 0.8295625942684767\n"
     ]
    }
   ],
   "source": [
    "criterions = [\"gini\", \"class_error\", \"entropy\"]\n",
    "criterion_scores = []\n",
    "for c in criterions:\n",
    "    dates_clf = MyDecisionTreeClassifier(criterion=c, max_depth=best_max_depth, min_samples_split=best_min_samples_split)\n",
    "    dates_clf.fit(X_train, y_train)\n",
    "    prediction = dates_clf.predict(X_test)\n",
    "    acc = accuracy_score(prediction, y_test)\n",
    "    criterion_scores.append(acc)\n",
    "    print(f\"criterion: {c} accuracy: {acc}\")"
   ]
  },
  {
   "cell_type": "markdown",
   "metadata": {},
   "source": [
    "Лучшим критерием оказался class_error"
   ]
  },
  {
   "cell_type": "code",
   "execution_count": 537,
   "metadata": {},
   "outputs": [
    {
     "data": {
      "text/plain": [
       "0.8318250377073907"
      ]
     },
     "execution_count": 537,
     "metadata": {},
     "output_type": "execute_result"
    }
   ],
   "source": [
    "best_clf = MyDecisionTreeClassifier(min_samples_split=best_min_samples_split, max_depth=best_max_depth, criterion=\"class_error\")\n",
    "best_clf.fit(X_train, y_train)\n",
    "best_prediction = best_clf.predict(X_test)\n",
    "best_acc = accuracy_score(best_prediction, y_test)\n",
    "best_acc"
   ]
  },
  {
   "cell_type": "code",
   "execution_count": 504,
   "metadata": {
    "collapsed": true,
    "jupyter": {
     "outputs_hidden": true
    },
    "tags": []
   },
   "outputs": [
    {
     "data": {
      "text/plain": [
       "{0: (0, 31, 10.0),\n",
       " 1: (0, 0, 164.0),\n",
       " 3: (0, 32, 8.0),\n",
       " 7: (0, 0, 69.0),\n",
       " 15: (0, 0, 52.0),\n",
       " 31: (1, 0, 0.8835616438356164),\n",
       " 32: (1, 0, 0.9607843137254902),\n",
       " 16: (0, 18, 80.0),\n",
       " 33: (0, 24, 1.0),\n",
       " 67: (1, 0, 1.0),\n",
       " 68: (0, 40, 0.19425287356321838),\n",
       " 137: (0, 0, 94.0),\n",
       " 275: (1, 0, 0.75),\n",
       " 276: (0, 12, 50.0),\n",
       " 553: (0, 39, 0.20639147802929428),\n",
       " 1107: (1, 0, 0.8115942028985508),\n",
       " 1108: (1, 0, 0.5),\n",
       " 554: (0, 27, 7.5),\n",
       " 1109: (1, 0, 1.0),\n",
       " 1110: (1, 1, 1.0),\n",
       " 138: (0, 23, 15.0),\n",
       " 277: (0, 32, 6.0),\n",
       " 555: (1, 1, 1.0),\n",
       " 556: (0, 1, 28.0),\n",
       " 1113: (1, 0, 0.9333333333333333),\n",
       " 1114: (1, 0, 0.5),\n",
       " 278: (1, 1, 0.5454545454545454),\n",
       " 34: (1, 0, 0.6),\n",
       " 8: (0, 24, 1.0),\n",
       " 17: (0, 0, 53.0),\n",
       " 35: (1, 0, 1.0),\n",
       " 36: (1, 0, 1.0),\n",
       " 18: (0, 76, 0.14155448717948718),\n",
       " 37: (1, 0, 1.0),\n",
       " 38: (0, 70, 8.0),\n",
       " 77: (0, 0, 107.0),\n",
       " 155: (1, 1, 0.8),\n",
       " 156: (1, 1, 1.0),\n",
       " 78: (0, 4, 0.17),\n",
       " 157: (1, 0, 0.75),\n",
       " 158: (1, 1, 0.8333333333333334),\n",
       " 4: (1, 0, 0.8484848484848485),\n",
       " 2: (0, 26, 9.5),\n",
       " 5: (1, 1, 0.7777777777777778),\n",
       " 6: (0, 64, 1.0),\n",
       " 13: (0, 75, 3.0),\n",
       " 27: (1, 0, 0.65),\n",
       " 28: (0, 40, 0.1610512129380054),\n",
       " 57: (1, 0, 1.0),\n",
       " 58: (1, 0, 0.75),\n",
       " 14: (1, 0, 0.5625)}"
      ]
     },
     "execution_count": 504,
     "metadata": {},
     "output_type": "execute_result"
    }
   ],
   "source": [
    "best_clf.tree"
   ]
  },
  {
   "cell_type": "code",
   "execution_count": 505,
   "metadata": {},
   "outputs": [
    {
     "data": {
      "text/plain": [
       "(array([0, 1]), array([1294,   32]))"
      ]
     },
     "execution_count": 505,
     "metadata": {},
     "output_type": "execute_result"
    }
   ],
   "source": [
    "np.unique(best_prediction, return_counts=True)"
   ]
  },
  {
   "cell_type": "markdown",
   "metadata": {},
   "source": [
    "## Находим самые важные признаки (2 балла)\n",
    "\n"
   ]
  },
  {
   "cell_type": "markdown",
   "metadata": {},
   "source": [
    "По построенному дереву  легко понять, какие признаки лучше всего помогли решить задачу. Часто это бывает нужно  не только  для сокращения размерности в данных, но и для лучшего понимания прикладной задачи. Например, Вы хотите понять, какие признаки стоит еще конструировать -- для этого нужно понимать, какие из текущих лучше всего работают в дереве. "
   ]
  },
  {
   "cell_type": "markdown",
   "metadata": {},
   "source": [
    "Самый простой метод -- посчитать число сплитов, где использовался данные признак. Это не лучший вариант, так как по признаку который принимает всего 2 значения, но который почти точно разделяет выборку, число сплитов будет очень 1, но при этом признак сам очень хороший. \n",
    "В этом задании предлагается для каждого признака считать суммарный gain (в лекции обозначено как Q) при использовании этого признака в сплите. Тогда даже у очень хороших признаков с маленьким число сплитов это значение должно быть довольно высоким.  "
   ]
  },
  {
   "cell_type": "markdown",
   "metadata": {},
   "source": [
    "Реализовать это довольно просто: создаете словарь номер фичи : суммарный гейн и добавляете в нужную фичу каждый раз, когда используете ее при построении дерева. "
   ]
  },
  {
   "cell_type": "markdown",
   "metadata": {},
   "source": [
    "Добавьте функционал, который определяет значения feature importance. Обучите дерево на датасете Speed Dating Data.\n",
    "Выведите 10 главных фичей по важности."
   ]
  },
  {
   "cell_type": "code",
   "execution_count": 542,
   "metadata": {
    "tags": []
   },
   "outputs": [
    {
     "data": {
      "text/plain": [
       "<BarContainer object of 82 artists>"
      ]
     },
     "execution_count": 542,
     "metadata": {},
     "output_type": "execute_result"
    },
    {
     "data": {
      "image/png": "[encoded data removed]",
      "text/plain": [
       "<Figure size 432x288 with 1 Axes>"
      ]
     },
     "metadata": {
      "needs_background": "light"
     },
     "output_type": "display_data"
    }
   ],
   "source": [
    "imps = best_clf.get_feature_importance()\n",
    "plt.bar(range(imps.shape[0]), imps)"
   ]
  },
  {
   "cell_type": "markdown",
   "metadata": {},
   "source": [
    "## Фидбек (бесценно)"
   ]
  },
  {
   "cell_type": "markdown",
   "metadata": {},
   "source": [
    "* Какие аспекты обучения деревьев решений Вам показались непонятными? Какое место стоит дополнительно объяснить?"
   ]
  },
  {
   "cell_type": "markdown",
   "metadata": {},
   "source": [
    "### Ваш ответ здесь"
   ]
  },
  {
   "cell_type": "markdown",
   "metadata": {},
   "source": [
    "* Здесь Вы можете оставить отзыв о этой домашней работе или о всем курсе."
   ]
  },
  {
   "cell_type": "markdown",
   "metadata": {},
   "source": [
    "### ВАШ ОТЗЫВ ЗДЕСЬ\n",
    "\n"
   ]
  },
  {
   "cell_type": "code",
   "execution_count": null,
   "metadata": {
    "collapsed": true,
    "jupyter": {
     "outputs_hidden": true
    }
   },
   "outputs": [],
   "source": []
  },
  {
   "cell_type": "code",
   "execution_count": null,
   "metadata": {
    "collapsed": true,
    "jupyter": {
     "outputs_hidden": true
    }
   },
   "outputs": [],
   "source": []
  }
 ],
 "metadata": {
  "anaconda-cloud": {},
  "kernelspec": {
   "display_name": "Python 3 (ipykernel)",
   "language": "python",
   "name": "python3"
  },
  "language_info": {
   "codemirror_mode": {
    "name": "ipython",
    "version": 3
   },
   "file_extension": ".py",
   "mimetype": "text/x-python",
   "name": "python",
   "nbconvert_exporter": "python",
   "pygments_lexer": "ipython3",
   "version": "3.7.13"
  },
  "widgets": {
   "application/vnd.jupyter.widget-state+json": {
    "state": {},
    "version_major": 2,
    "version_minor": 0
   }
  }
 },
 "nbformat": 4,
 "nbformat_minor": 4
}
